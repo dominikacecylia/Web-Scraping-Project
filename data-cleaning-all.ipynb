{
 "metadata": {
  "language_info": {
   "codemirror_mode": {
    "name": "ipython",
    "version": 3
   },
   "file_extension": ".py",
   "mimetype": "text/x-python",
   "name": "python",
   "nbconvert_exporter": "python",
   "pygments_lexer": "ipython3",
   "version": "3.7.4"
  },
  "orig_nbformat": 2,
  "kernelspec": {
   "name": "python374jvsc74a57bd0c93df55f5f202384f3bb5a80607004194cd8c49f314b34663a631fdaa9229f8e",
   "display_name": "Python 3.7.4 64-bit ('base': conda)"
  }
 },
 "nbformat": 4,
 "nbformat_minor": 2,
 "cells": [
  {
   "source": [
    "# **Import all libraries**"
   ],
   "cell_type": "markdown",
   "metadata": {}
  },
  {
   "cell_type": "code",
   "execution_count": 2,
   "metadata": {},
   "outputs": [],
   "source": [
    "import json\n",
    "import pandas as pd\n",
    "import numpy as np"
   ]
  },
  {
   "source": [
    "# **Cleaning of data from coffee-desk-scraper**\n"
   ],
   "cell_type": "markdown",
   "metadata": {}
  },
  {
   "cell_type": "code",
   "execution_count": 206,
   "metadata": {},
   "outputs": [],
   "source": [
    "with open('data/data_pl_coffee_all.json', 'r', encoding='ascii') as json_file:\n",
    "    data = json_file.read().replace('\\n', '')\n",
    "    data = data.replace('[', '')\n",
    "    data = data.replace(']', '')\n",
    "    data = data.replace('},', '}')\n",
    "\n",
    "    list_of_strings = data.split(\"{\")\n",
    "    list_of_strings = list_of_strings[1:] \n",
    "\n",
    "    list_of_corrected_strings = []\n",
    "    for dict in list_of_strings:\n",
    "        list_of_corrected_strings.append('{' + dict)\n",
    "\n",
    "    list_of_dictionaries = []\n",
    "    for string in list_of_corrected_strings:\n",
    "        dict = json.loads(string)\n",
    "        unique_id = dict['unique_id']\n",
    "        try:\n",
    "            price = str(dict['price'])\n",
    "        except:\n",
    "            price = 0\n",
    "        try:\n",
    "            weight = dict['Opakowanie:']\n",
    "        except:\n",
    "            weight = \"\"\n",
    "        try:\n",
    "            process = dict['Obróbka:']\n",
    "        except:\n",
    "            process = \"\"\n",
    "        try:\n",
    "            grind_types = dict['Przeznaczenie:']\n",
    "        except:\n",
    "            grind_types = ''\n",
    "        try:\n",
    "            roast = dict['Stopień palenia ziaren:']\n",
    "        except:\n",
    "            roast = ''\n",
    "        try:\n",
    "            blend = dict['Rodzaj kawy:']\n",
    "        except:\n",
    "            blend = ''\n",
    "        try:\n",
    "            description = dict['description']\n",
    "        except:\n",
    "            description = None\n",
    "        try:\n",
    "            arabica_robusta = dict['Arabica / Robusta:']\n",
    "        except:\n",
    "            arabica_robusta = None\n",
    "        try:\n",
    "            origin = dict['Pochodzenie:']\n",
    "        except:\n",
    "            origin = None\n",
    "\n",
    "        coffee_dictionary = {\n",
    "            \"unique_id\" : unique_id,\n",
    "            \"price\" : price,\n",
    "            \"weight\" : weight,\n",
    "            \"process\" : process,\n",
    "            \"grind_types\" : grind_types,\n",
    "            \"roast\" : roast,\n",
    "            \"blend\" : blend,\n",
    "            \"description\" : description,\n",
    "            \"arabica_robusta\" : arabica_robusta,\n",
    "            \"origin\" : origin\n",
    "        }\n",
    "        list_of_dictionaries.append(coffee_dictionary)"
   ]
  },
  {
   "cell_type": "code",
   "execution_count": 207,
   "metadata": {},
   "outputs": [],
   "source": [
    "# dictionary_test = list_of_dictionaries[0].keys()\n",
    "df_coffee = pd.DataFrame(columns=['unique_id', 'price', 'weight', 'process', 'grind_types', 'roast', 'blend', 'description', 'arabica_robusta', 'origin'])"
   ]
  },
  {
   "cell_type": "code",
   "execution_count": 208,
   "metadata": {},
   "outputs": [],
   "source": [
    "for idx, dict in enumerate(list_of_dictionaries): #merging dictionaries into df\n",
    "        df = pd.DataFrame(dict, index=[idx])\n",
    "        df_coffee = df_coffee.append(df)"
   ]
  },
  {
   "cell_type": "code",
   "execution_count": 216,
   "metadata": {},
   "outputs": [
    {
     "output_type": "execute_result",
     "data": {
      "text/plain": [
       "                                           unique_id      price weight  \\\n",
       "0  https://www.coffeedesk.pl/product/17602/Espres...  139,00 zł   1 kg   \n",
       "1  https://www.coffeedesk.pl/product/17601/Espres...   43,00 zł  250 g   \n",
       "2  https://www.coffeedesk.pl/product/115/Johan-An...   79,00 zł  500 g   \n",
       "3  https://www.coffeedesk.pl/product/753/Arcaffe-...   99,00 zł   1 kg   \n",
       "4  https://www.coffeedesk.pl/product/754/Arcaffe-...   32,00 zł  250 g   \n",
       "5  https://www.coffeedesk.pl/product/5874/Arcaffe...   65,00 zł  500 g   \n",
       "6  https://www.coffeedesk.pl/product/272/Arcaffe-...   79,00 zł   1 kg   \n",
       "7  https://www.coffeedesk.pl/product/267/Arcaffe-...   99,00 zł   1 kg   \n",
       "8  https://www.coffeedesk.pl/product/268/Arcaffe-...   31,90 zł  250 g   \n",
       "9  https://www.coffeedesk.pl/product/269/Arcaffe-...  125,00 zł   1 kg   \n",
       "\n",
       "   process grind_types   roast      blend  \\\n",
       "0  Natural    Espresso  Średni  Ziarnista   \n",
       "1  Natural    Espresso  Średni  Ziarnista   \n",
       "2             Espresso  Średni  Ziarnista   \n",
       "3             Espresso  Średni  Ziarnista   \n",
       "4             Espresso  Średni  Ziarnista   \n",
       "5             Espresso  Średni  Ziarnista   \n",
       "6             Espresso  Średni  Ziarnista   \n",
       "7             Espresso  Średni  Ziarnista   \n",
       "8             Espresso  Średni  Ziarnista   \n",
       "9             Espresso  Średni  Ziarnista   \n",
       "\n",
       "                                         description arabica_robusta  origin  \n",
       "0  Maj rozpoczynamy z nowym espresso miesiąca! Ty...    100% Arabica  Uganda  \n",
       "1  Maj rozpoczynamy z nowym espresso miesiąca! Ty...    100% Arabica  Uganda  \n",
       "2  Flagowa mieszanka ziaren jakości speciality ze...    100% Arabica    None  \n",
       "3  Gorgona to nazwa jednej z wysp archipelagu Tus...           85/15  Włochy  \n",
       "4  Gorgona to nazwa jednej z wysp archipelagu Tus...           85/15  Włochy  \n",
       "5                                                       100% Arabica    None  \n",
       "6  Arcaffe Margo to wyważona mieszanka ziaren kaw...           50/50    None  \n",
       "7  Meloria to mieszanka ziaren arabiki (75%) i ro...           75/25  Włochy  \n",
       "8  Meloria to mieszanka ziaren arabiki (75%) i ro...           75/25  Włochy  \n",
       "9  Mokacrema to blend kaw ziarnistych jakości spe...    100% Arabica    None  "
      ],
      "text/html": "<div>\n<style scoped>\n    .dataframe tbody tr th:only-of-type {\n        vertical-align: middle;\n    }\n\n    .dataframe tbody tr th {\n        vertical-align: top;\n    }\n\n    .dataframe thead th {\n        text-align: right;\n    }\n</style>\n<table border=\"1\" class=\"dataframe\">\n  <thead>\n    <tr style=\"text-align: right;\">\n      <th></th>\n      <th>unique_id</th>\n      <th>price</th>\n      <th>weight</th>\n      <th>process</th>\n      <th>grind_types</th>\n      <th>roast</th>\n      <th>blend</th>\n      <th>description</th>\n      <th>arabica_robusta</th>\n      <th>origin</th>\n    </tr>\n  </thead>\n  <tbody>\n    <tr>\n      <th>0</th>\n      <td>https://www.coffeedesk.pl/product/17602/Espres...</td>\n      <td>139,00 zł</td>\n      <td>1 kg</td>\n      <td>Natural</td>\n      <td>Espresso</td>\n      <td>Średni</td>\n      <td>Ziarnista</td>\n      <td>Maj rozpoczynamy z nowym espresso miesiąca! Ty...</td>\n      <td>100% Arabica</td>\n      <td>Uganda</td>\n    </tr>\n    <tr>\n      <th>1</th>\n      <td>https://www.coffeedesk.pl/product/17601/Espres...</td>\n      <td>43,00 zł</td>\n      <td>250 g</td>\n      <td>Natural</td>\n      <td>Espresso</td>\n      <td>Średni</td>\n      <td>Ziarnista</td>\n      <td>Maj rozpoczynamy z nowym espresso miesiąca! Ty...</td>\n      <td>100% Arabica</td>\n      <td>Uganda</td>\n    </tr>\n    <tr>\n      <th>2</th>\n      <td>https://www.coffeedesk.pl/product/115/Johan-An...</td>\n      <td>79,00 zł</td>\n      <td>500 g</td>\n      <td></td>\n      <td>Espresso</td>\n      <td>Średni</td>\n      <td>Ziarnista</td>\n      <td>Flagowa mieszanka ziaren jakości speciality ze...</td>\n      <td>100% Arabica</td>\n      <td>None</td>\n    </tr>\n    <tr>\n      <th>3</th>\n      <td>https://www.coffeedesk.pl/product/753/Arcaffe-...</td>\n      <td>99,00 zł</td>\n      <td>1 kg</td>\n      <td></td>\n      <td>Espresso</td>\n      <td>Średni</td>\n      <td>Ziarnista</td>\n      <td>Gorgona to nazwa jednej z wysp archipelagu Tus...</td>\n      <td>85/15</td>\n      <td>Włochy</td>\n    </tr>\n    <tr>\n      <th>4</th>\n      <td>https://www.coffeedesk.pl/product/754/Arcaffe-...</td>\n      <td>32,00 zł</td>\n      <td>250 g</td>\n      <td></td>\n      <td>Espresso</td>\n      <td>Średni</td>\n      <td>Ziarnista</td>\n      <td>Gorgona to nazwa jednej z wysp archipelagu Tus...</td>\n      <td>85/15</td>\n      <td>Włochy</td>\n    </tr>\n    <tr>\n      <th>5</th>\n      <td>https://www.coffeedesk.pl/product/5874/Arcaffe...</td>\n      <td>65,00 zł</td>\n      <td>500 g</td>\n      <td></td>\n      <td>Espresso</td>\n      <td>Średni</td>\n      <td>Ziarnista</td>\n      <td></td>\n      <td>100% Arabica</td>\n      <td>None</td>\n    </tr>\n    <tr>\n      <th>6</th>\n      <td>https://www.coffeedesk.pl/product/272/Arcaffe-...</td>\n      <td>79,00 zł</td>\n      <td>1 kg</td>\n      <td></td>\n      <td>Espresso</td>\n      <td>Średni</td>\n      <td>Ziarnista</td>\n      <td>Arcaffe Margo to wyważona mieszanka ziaren kaw...</td>\n      <td>50/50</td>\n      <td>None</td>\n    </tr>\n    <tr>\n      <th>7</th>\n      <td>https://www.coffeedesk.pl/product/267/Arcaffe-...</td>\n      <td>99,00 zł</td>\n      <td>1 kg</td>\n      <td></td>\n      <td>Espresso</td>\n      <td>Średni</td>\n      <td>Ziarnista</td>\n      <td>Meloria to mieszanka ziaren arabiki (75%) i ro...</td>\n      <td>75/25</td>\n      <td>Włochy</td>\n    </tr>\n    <tr>\n      <th>8</th>\n      <td>https://www.coffeedesk.pl/product/268/Arcaffe-...</td>\n      <td>31,90 zł</td>\n      <td>250 g</td>\n      <td></td>\n      <td>Espresso</td>\n      <td>Średni</td>\n      <td>Ziarnista</td>\n      <td>Meloria to mieszanka ziaren arabiki (75%) i ro...</td>\n      <td>75/25</td>\n      <td>Włochy</td>\n    </tr>\n    <tr>\n      <th>9</th>\n      <td>https://www.coffeedesk.pl/product/269/Arcaffe-...</td>\n      <td>125,00 zł</td>\n      <td>1 kg</td>\n      <td></td>\n      <td>Espresso</td>\n      <td>Średni</td>\n      <td>Ziarnista</td>\n      <td>Mokacrema to blend kaw ziarnistych jakości spe...</td>\n      <td>100% Arabica</td>\n      <td>None</td>\n    </tr>\n  </tbody>\n</table>\n</div>"
     },
     "metadata": {},
     "execution_count": 216
    }
   ],
   "source": [
    "df_coffee_without_duplicates = df_coffee.drop_duplicates(keep=\"first\", inplace=False) # removing duplicates\n",
    "df_coffee_without_duplicates.head(10)"
   ]
  },
  {
   "cell_type": "code",
   "execution_count": 217,
   "metadata": {},
   "outputs": [
    {
     "output_type": "execute_result",
     "data": {
      "text/plain": [
       "unique_id          object\n",
       "price              object\n",
       "weight             object\n",
       "process            object\n",
       "grind_types        object\n",
       "roast              object\n",
       "blend              object\n",
       "description        object\n",
       "arabica_robusta    object\n",
       "origin             object\n",
       "dtype: object"
      ]
     },
     "metadata": {},
     "execution_count": 217
    }
   ],
   "source": [
    "df_coffee_without_duplicates.dtypes"
   ]
  },
  {
   "cell_type": "code",
   "execution_count": 218,
   "metadata": {},
   "outputs": [],
   "source": [
    "df_coffee_without_duplicates = df_coffee_without_duplicates.astype(\"str\")"
   ]
  },
  {
   "cell_type": "code",
   "execution_count": 219,
   "metadata": {},
   "outputs": [
    {
     "output_type": "execute_result",
     "data": {
      "text/plain": [
       "0    139.0\n",
       "1     43.0\n",
       "2     79.0\n",
       "3     99.0\n",
       "4     32.0\n",
       "Name: price, dtype: float64"
      ]
     },
     "metadata": {},
     "execution_count": 219
    }
   ],
   "source": [
    "df_coffee_without_duplicates[\"price\"] = df_coffee_without_duplicates[\"price\"].str.strip(\" zł\")\n",
    "df_coffee_without_duplicates[\"price\"] = df_coffee_without_duplicates[\"price\"].str.replace(\",\", \".\")\n",
    "df_coffee_without_duplicates[\"price\"] = df_coffee_without_duplicates[\"price\"].astype(\"float\")\n",
    "df_coffee_without_duplicates[\"price\"].head()\n"
   ]
  },
  {
   "cell_type": "code",
   "execution_count": 227,
   "metadata": {},
   "outputs": [],
   "source": [
    "idx = df_coffee_without_duplicates[df_coffee_without_duplicates['weight'] == '200 ml'].index\n",
    "idx\n",
    "for i in idx:\n",
    "    df_coffee_without_duplicates = df_coffee_without_duplicates.drop(i)"
   ]
  },
  {
   "cell_type": "code",
   "execution_count": 228,
   "metadata": {},
   "outputs": [
    {
     "output_type": "execute_result",
     "data": {
      "text/plain": [
       "250 g      541\n",
       "1000       163\n",
       "500 g       54\n",
       "200 g       50\n",
       "            16\n",
       "88          11\n",
       "125 g       10\n",
       "300 g        7\n",
       "11 g         5\n",
       "70g          4\n",
       "252 g        4\n",
       "10g          3\n",
       "400g         2\n",
       "6000 kg      2\n",
       "6000         1\n",
       "100 g        1\n",
       "360g         1\n",
       "330g         1\n",
       "1250g        1\n",
       "150 g        1\n",
       "400 g        1\n",
       "90 g         1\n",
       "Name: weight(g), dtype: int64"
      ]
     },
     "metadata": {},
     "execution_count": 228
    }
   ],
   "source": [
    "df_coffee_without_duplicates[\"weight(g)\"] = df_coffee_without_duplicates[\"weight\"].str.replace(\"6 sztuk\", \"6000\")\n",
    "df_coffee_without_duplicates[\"weight(g)\"] = df_coffee_without_duplicates[\"weight(g)\"].str.replace(\"5 x 250\", \"1250\")\n",
    "df_coffee_without_duplicates[\"weight(g)\"] = df_coffee_without_duplicates[\"weight(g)\"].str.replace(\"8 x 11g\", \"88\")\n",
    "df_coffee_without_duplicates[\"weight(g)\"] = df_coffee_without_duplicates[\"weight(g)\"].str.replace(\"7 x 10\", \"70\")\n",
    "df_coffee_without_duplicates[\"weight(g)\"] = df_coffee_without_duplicates[\"weight(g)\"].str.replace(\"6 x 60\", \"360\")\n",
    "df_coffee_without_duplicates[\"weight(g)\"] = df_coffee_without_duplicates[\"weight(g)\"].str.replace(\"6 x 55\", \"330\")\n",
    "df_coffee_without_duplicates[\"weight(g)\"] = df_coffee_without_duplicates[\"weight(g)\"].str.replace(\"2 x 200\", \"400\")\n",
    "df_coffee_without_duplicates[\"weight(g)\"] = df_coffee_without_duplicates[\"weight(g)\"].str.replace(\"5 x 100\", \"400\")\n",
    "df_coffee_without_duplicates[\"weight(g)\"] = df_coffee_without_duplicates[\"weight(g)\"].str.replace(\"6x 1\", \"6000\")\n",
    "df_coffee_without_duplicates[\"weight(g)\"] = df_coffee_without_duplicates[\"weight(g)\"].str.replace(\"1 kg\", \"1000\")\n",
    "df_coffee_without_duplicates = df_coffee_without_duplicates[df_coffee_without_duplicates.weight != '10 saszetek']\n",
    "df_coffee_without_duplicates = df_coffee_without_duplicates[df_coffee_without_duplicates.weight != '10 sztuk']\n",
    "\n",
    "df_coffee_without_duplicates[\"weight(g)\"].value_counts()"
   ]
  },
  {
   "cell_type": "code",
   "execution_count": 229,
   "metadata": {},
   "outputs": [
    {
     "output_type": "execute_result",
     "data": {
      "text/plain": [
       "250     541\n",
       "1000    163\n",
       "500      54\n",
       "200      50\n",
       "         16\n",
       "88       11\n",
       "125      10\n",
       "300       7\n",
       "11        5\n",
       "252       4\n",
       "70        4\n",
       "400       3\n",
       "6000      3\n",
       "10        3\n",
       "150       1\n",
       "100       1\n",
       "90        1\n",
       "360       1\n",
       "1250      1\n",
       "330       1\n",
       "Name: weight(g), dtype: int64"
      ]
     },
     "metadata": {},
     "execution_count": 229
    }
   ],
   "source": [
    "df_coffee_without_duplicates[\"weight(g)\"] = df_coffee_without_duplicates[\"weight(g)\"].str.strip(\" kg\")\n",
    "df_coffee_without_duplicates[\"weight(g)\"] = df_coffee_without_duplicates[\"weight(g)\"].str.strip(\" g\")\n",
    "df_coffee_without_duplicates[\"weight(g)\"] = df_coffee_without_duplicates[\"weight(g)\"].fillna(0)\n",
    "\n",
    "df_coffee_without_duplicates[\"weight(g)\"].value_counts()"
   ]
  },
  {
   "cell_type": "code",
   "execution_count": 230,
   "metadata": {},
   "outputs": [
    {
     "output_type": "execute_result",
     "data": {
      "text/plain": [
       "0       1000\n",
       "1        250\n",
       "2        500\n",
       "3       1000\n",
       "4        250\n",
       "        ... \n",
       "4243    1000\n",
       "4244     250\n",
       "4245     250\n",
       "4246        \n",
       "4247     250\n",
       "Name: weight(g), Length: 880, dtype: object"
      ]
     },
     "metadata": {},
     "execution_count": 230
    }
   ],
   "source": [
    "df_coffee_without_duplicates[\"weight(g)\"]"
   ]
  },
  {
   "cell_type": "code",
   "execution_count": 231,
   "metadata": {},
   "outputs": [
    {
     "output_type": "execute_result",
     "data": {
      "text/plain": [
       "880"
      ]
     },
     "metadata": {},
     "execution_count": 231
    }
   ],
   "source": [
    "len(df_coffee_without_duplicates)"
   ]
  },
  {
   "cell_type": "code",
   "execution_count": 232,
   "metadata": {},
   "outputs": [
    {
     "output_type": "execute_result",
     "data": {
      "text/plain": [
       "Jasny     383\n",
       "Średni    277\n",
       "Ciemny    198\n",
       "           22\n",
       "Name: roast, dtype: int64"
      ]
     },
     "metadata": {},
     "execution_count": 232
    }
   ],
   "source": [
    "df_coffee_without_duplicates['roast'].value_counts()"
   ]
  },
  {
   "cell_type": "code",
   "execution_count": 233,
   "metadata": {},
   "outputs": [
    {
     "output_type": "execute_result",
     "data": {
      "text/plain": [
       "light     383\n",
       "medium    277\n",
       "dark      198\n",
       "           22\n",
       "Name: roast, dtype: int64"
      ]
     },
     "metadata": {},
     "execution_count": 233
    }
   ],
   "source": [
    "df_coffee_without_duplicates['roast'] = df_coffee_without_duplicates['roast'].str.replace(\"Jasny\", \"light\")\n",
    "df_coffee_without_duplicates['roast'] = df_coffee_without_duplicates['roast'].str.replace(\"Średni\", \"medium\")\n",
    "df_coffee_without_duplicates['roast'] = df_coffee_without_duplicates['roast'].str.replace(\"Ciemny\", \"dark\")\n",
    "df_coffee_without_duplicates['roast'].value_counts()"
   ]
  },
  {
   "cell_type": "code",
   "execution_count": 234,
   "metadata": {},
   "outputs": [],
   "source": [
    "import numpy as np"
   ]
  },
  {
   "cell_type": "code",
   "execution_count": 235,
   "metadata": {},
   "outputs": [
    {
     "output_type": "execute_result",
     "data": {
      "text/plain": [
       "Int64Index([ 337,  339,  342,  343,  344,  345,  346, 1737, 1738, 1739, 1756,\n",
       "            2450, 2451, 2452, 3296, 4246],\n",
       "           dtype='int64')"
      ]
     },
     "metadata": {},
     "execution_count": 235
    }
   ],
   "source": [
    "# np.where(df_coffee_without_duplicates.applymap(lambda x: x ==''))\n",
    "df_coffee_without_duplicates[df_coffee_without_duplicates[\"weight(g)\"] == ''].index"
   ]
  },
  {
   "cell_type": "code",
   "execution_count": 236,
   "metadata": {},
   "outputs": [],
   "source": [
    "df_coffee_without_duplicates.loc[337,\"weight(g)\"] = 0 # replacing empty cells as fillna did not worl\n",
    "df_coffee_without_duplicates.loc[339,\"weight(g)\"] = 0\n",
    "df_coffee_without_duplicates.loc[342:346,\"weight(g)\"] = 0\n",
    "df_coffee_without_duplicates.loc[1737:1739,\"weight(g)\"] = 0\n",
    "df_coffee_without_duplicates.loc[1756,\"weight(g)\"] = 0\n",
    "df_coffee_without_duplicates.loc[2450:2452,\"weight(g)\"] = 0\n",
    "df_coffee_without_duplicates.loc[3296,\"weight(g)\"] = 0\n",
    "df_coffee_without_duplicates.loc[4246,\"weight(g)\"] = 0"
   ]
  },
  {
   "cell_type": "code",
   "execution_count": 237,
   "metadata": {},
   "outputs": [],
   "source": [
    "df_coffee_without_duplicates[df_coffee_without_duplicates[\"weight(g)\"] == ''].index\n",
    "df_coffee_without_duplicates[\"weight(g)\"] = df_coffee_without_duplicates[\"weight(g)\"].astype(\"float\")"
   ]
  },
  {
   "cell_type": "code",
   "execution_count": 266,
   "metadata": {},
   "outputs": [
    {
     "output_type": "execute_result",
     "data": {
      "text/plain": [
       "                                           unique_id  price weight  process  \\\n",
       "0  https://www.coffeedesk.pl/product/17602/Espres...  139.0   1 kg  Natural   \n",
       "1  https://www.coffeedesk.pl/product/17601/Espres...   43.0  250 g  Natural   \n",
       "2  https://www.coffeedesk.pl/product/115/Johan-An...   79.0  500 g      NaN   \n",
       "3  https://www.coffeedesk.pl/product/753/Arcaffe-...   99.0   1 kg      NaN   \n",
       "4  https://www.coffeedesk.pl/product/754/Arcaffe-...   32.0  250 g      NaN   \n",
       "\n",
       "  grind_types   roast  blend  \\\n",
       "0    espresso  medium  beans   \n",
       "1    espresso  medium  beans   \n",
       "2    espresso  medium  beans   \n",
       "3    espresso  medium  beans   \n",
       "4    espresso  medium  beans   \n",
       "\n",
       "                                         description arabica_robusta  origin  \\\n",
       "0  Maj rozpoczynamy z nowym espresso miesiąca! Ty...    100% Arabica  Uganda   \n",
       "1  Maj rozpoczynamy z nowym espresso miesiąca! Ty...    100% Arabica  Uganda   \n",
       "2  Flagowa mieszanka ziaren jakości speciality ze...    100% Arabica    None   \n",
       "3  Gorgona to nazwa jednej z wysp archipelagu Tus...           85/15  Włochy   \n",
       "4  Gorgona to nazwa jednej z wysp archipelagu Tus...           85/15  Włochy   \n",
       "\n",
       "   weight(g)  price_per_kg  \n",
       "0     1000.0         139.0  \n",
       "1      250.0         172.0  \n",
       "2      500.0         158.0  \n",
       "3     1000.0          99.0  \n",
       "4      250.0         128.0  "
      ],
      "text/html": "<div>\n<style scoped>\n    .dataframe tbody tr th:only-of-type {\n        vertical-align: middle;\n    }\n\n    .dataframe tbody tr th {\n        vertical-align: top;\n    }\n\n    .dataframe thead th {\n        text-align: right;\n    }\n</style>\n<table border=\"1\" class=\"dataframe\">\n  <thead>\n    <tr style=\"text-align: right;\">\n      <th></th>\n      <th>unique_id</th>\n      <th>price</th>\n      <th>weight</th>\n      <th>process</th>\n      <th>grind_types</th>\n      <th>roast</th>\n      <th>blend</th>\n      <th>description</th>\n      <th>arabica_robusta</th>\n      <th>origin</th>\n      <th>weight(g)</th>\n      <th>price_per_kg</th>\n    </tr>\n  </thead>\n  <tbody>\n    <tr>\n      <th>0</th>\n      <td>https://www.coffeedesk.pl/product/17602/Espres...</td>\n      <td>139.0</td>\n      <td>1 kg</td>\n      <td>Natural</td>\n      <td>espresso</td>\n      <td>medium</td>\n      <td>beans</td>\n      <td>Maj rozpoczynamy z nowym espresso miesiąca! Ty...</td>\n      <td>100% Arabica</td>\n      <td>Uganda</td>\n      <td>1000.0</td>\n      <td>139.0</td>\n    </tr>\n    <tr>\n      <th>1</th>\n      <td>https://www.coffeedesk.pl/product/17601/Espres...</td>\n      <td>43.0</td>\n      <td>250 g</td>\n      <td>Natural</td>\n      <td>espresso</td>\n      <td>medium</td>\n      <td>beans</td>\n      <td>Maj rozpoczynamy z nowym espresso miesiąca! Ty...</td>\n      <td>100% Arabica</td>\n      <td>Uganda</td>\n      <td>250.0</td>\n      <td>172.0</td>\n    </tr>\n    <tr>\n      <th>2</th>\n      <td>https://www.coffeedesk.pl/product/115/Johan-An...</td>\n      <td>79.0</td>\n      <td>500 g</td>\n      <td>NaN</td>\n      <td>espresso</td>\n      <td>medium</td>\n      <td>beans</td>\n      <td>Flagowa mieszanka ziaren jakości speciality ze...</td>\n      <td>100% Arabica</td>\n      <td>None</td>\n      <td>500.0</td>\n      <td>158.0</td>\n    </tr>\n    <tr>\n      <th>3</th>\n      <td>https://www.coffeedesk.pl/product/753/Arcaffe-...</td>\n      <td>99.0</td>\n      <td>1 kg</td>\n      <td>NaN</td>\n      <td>espresso</td>\n      <td>medium</td>\n      <td>beans</td>\n      <td>Gorgona to nazwa jednej z wysp archipelagu Tus...</td>\n      <td>85/15</td>\n      <td>Włochy</td>\n      <td>1000.0</td>\n      <td>99.0</td>\n    </tr>\n    <tr>\n      <th>4</th>\n      <td>https://www.coffeedesk.pl/product/754/Arcaffe-...</td>\n      <td>32.0</td>\n      <td>250 g</td>\n      <td>NaN</td>\n      <td>espresso</td>\n      <td>medium</td>\n      <td>beans</td>\n      <td>Gorgona to nazwa jednej z wysp archipelagu Tus...</td>\n      <td>85/15</td>\n      <td>Włochy</td>\n      <td>250.0</td>\n      <td>128.0</td>\n    </tr>\n  </tbody>\n</table>\n</div>"
     },
     "metadata": {},
     "execution_count": 266
    }
   ],
   "source": [
    "df_coffee_without_duplicates['price_per_kg'] = df_coffee_without_duplicates[\"price\"].div(df_coffee_without_duplicates[\"weight(g)\"]).mul(1000)\n",
    "\n",
    "df_coffee_without_duplicates.head()"
   ]
  },
  {
   "cell_type": "code",
   "execution_count": 268,
   "metadata": {},
   "outputs": [
    {
     "output_type": "execute_result",
     "data": {
      "text/plain": [
       "count     880.000000\n",
       "mean      411.842045\n",
       "std       445.582347\n",
       "min         0.000000\n",
       "25%       250.000000\n",
       "50%       250.000000\n",
       "75%       500.000000\n",
       "max      6000.000000\n",
       "Name: weight(g), dtype: float64"
      ]
     },
     "metadata": {},
     "execution_count": 268
    }
   ],
   "source": [
    "df_coffee_without_duplicates[\"weight(g)\"].describe()"
   ]
  },
  {
   "cell_type": "code",
   "execution_count": 269,
   "metadata": {},
   "outputs": [
    {
     "output_type": "execute_result",
     "data": {
      "text/plain": [
       "count    880.000000\n",
       "mean      66.651705\n",
       "std       68.806310\n",
       "min        4.500000\n",
       "25%       36.000000\n",
       "50%       54.000000\n",
       "75%       69.925000\n",
       "max      675.000000\n",
       "Name: price, dtype: float64"
      ]
     },
     "metadata": {},
     "execution_count": 269
    }
   ],
   "source": [
    "df_coffee_without_duplicates[\"price\"].describe()"
   ]
  },
  {
   "cell_type": "code",
   "execution_count": 267,
   "metadata": {},
   "outputs": [
    {
     "output_type": "execute_result",
     "data": {
      "text/plain": [
       "count    880.0\n",
       "mean       inf\n",
       "std        NaN\n",
       "min       39.0\n",
       "25%      115.6\n",
       "50%      168.0\n",
       "75%      232.0\n",
       "max        inf\n",
       "Name: price_per_kg, dtype: float64"
      ]
     },
     "metadata": {},
     "execution_count": 267
    }
   ],
   "source": [
    "df_coffee_without_duplicates['price_per_kg'].describe()"
   ]
  },
  {
   "cell_type": "code",
   "execution_count": 264,
   "metadata": {},
   "outputs": [],
   "source": [
    "#remove infinite values\n",
    "\n",
    "# m = df_coffee_without_duplicates.loc[df_coffee_without_duplicates['price_per_kg'] != np.inf, 'price_per_kg'].max\n",
    "# df_coffee_without_duplicates['price_per_kg'].replace(np.inf,m,inplace=True)"
   ]
  },
  {
   "cell_type": "code",
   "execution_count": 239,
   "metadata": {},
   "outputs": [
    {
     "output_type": "execute_result",
     "data": {
      "text/plain": [
       "{'', 'Mielona', 'W kapsułkach', 'Ziarnista'}"
      ]
     },
     "metadata": {},
     "execution_count": 239
    }
   ],
   "source": [
    "blend = set(df_coffee_without_duplicates['blend'])\n",
    "blend"
   ]
  },
  {
   "cell_type": "code",
   "execution_count": 240,
   "metadata": {},
   "outputs": [],
   "source": [
    "df_coffee_without_duplicates['blend'] = df_coffee_without_duplicates['blend'].replace(r'^\\s*$', np.nan, regex=True)"
   ]
  },
  {
   "cell_type": "code",
   "execution_count": 241,
   "metadata": {},
   "outputs": [
    {
     "output_type": "execute_result",
     "data": {
      "text/plain": [
       "{'', 'Drip (Metody alternatywne)', 'Drip i espresso', 'Espresso'}"
      ]
     },
     "metadata": {},
     "execution_count": 241
    }
   ],
   "source": [
    "grind = set(df_coffee_without_duplicates['grind_types'])\n",
    "grind"
   ]
  },
  {
   "cell_type": "code",
   "execution_count": 242,
   "metadata": {},
   "outputs": [],
   "source": [
    "df_coffee_without_duplicates['grind_types'] = df_coffee_without_duplicates['grind_types'].replace(r'^\\s*$', np.nan, regex=True)"
   ]
  },
  {
   "cell_type": "code",
   "execution_count": 243,
   "metadata": {},
   "outputs": [
    {
     "output_type": "execute_result",
     "data": {
      "text/plain": [
       "{'',\n",
       " 'Aerobic Fermentation in Piles',\n",
       " 'Anaerobic',\n",
       " 'Anaerobic natural',\n",
       " 'Black Honey',\n",
       " 'CRYO',\n",
       " 'Carbonic Maceration',\n",
       " 'Closed Tank Fermentation',\n",
       " 'Experimental',\n",
       " 'Experimental Anaerobic',\n",
       " 'Fermentacja kontrolowana',\n",
       " 'Honey',\n",
       " 'Honey + Anaerobic',\n",
       " 'Hybrid Natural',\n",
       " 'Macerated Natural',\n",
       " 'Monsooning',\n",
       " 'Natural',\n",
       " 'Pulped natural',\n",
       " 'Red Honey',\n",
       " 'Rum Aged',\n",
       " 'Semi-Carbonic Maceration',\n",
       " 'Semi-Washed Kombucha Experiment',\n",
       " 'Semi-washed',\n",
       " 'Washed',\n",
       " 'Washed Anaerobic',\n",
       " 'Washed Double Anaerobic',\n",
       " 'Washed i natural',\n",
       " 'Washed, Barrel Aged',\n",
       " 'Wet-hulling',\n",
       " 'Yeast Process',\n",
       " 'Yellow Bourbon',\n",
       " 'Yellow Honey'}"
      ]
     },
     "metadata": {},
     "execution_count": 243
    }
   ],
   "source": [
    "process = set(df_coffee_without_duplicates['process'])\n",
    "process"
   ]
  },
  {
   "cell_type": "code",
   "execution_count": 244,
   "metadata": {},
   "outputs": [
    {
     "output_type": "execute_result",
     "data": {
      "text/plain": [
       "{'Aerobic Fermentation in Piles',\n",
       " 'Anaerobic',\n",
       " 'Anaerobic natural',\n",
       " 'Black Honey',\n",
       " 'CRYO',\n",
       " 'Carbonic Maceration',\n",
       " 'Closed Tank Fermentation',\n",
       " 'Experimental',\n",
       " 'Experimental Anaerobic',\n",
       " 'Fermentacja kontrolowana',\n",
       " 'Honey',\n",
       " 'Honey + Anaerobic',\n",
       " 'Hybrid Natural',\n",
       " 'Macerated Natural',\n",
       " 'Monsooning',\n",
       " 'Natural',\n",
       " 'Pulped natural',\n",
       " 'Red Honey',\n",
       " 'Rum Aged',\n",
       " 'Semi-Carbonic Maceration',\n",
       " 'Semi-Washed Kombucha Experiment',\n",
       " 'Semi-washed',\n",
       " 'Washed',\n",
       " 'Washed Anaerobic',\n",
       " 'Washed Double Anaerobic',\n",
       " 'Washed i natural',\n",
       " 'Washed, Barrel Aged',\n",
       " 'Wet-hulling',\n",
       " 'Yeast Process',\n",
       " 'Yellow Bourbon',\n",
       " 'Yellow Honey',\n",
       " nan}"
      ]
     },
     "metadata": {},
     "execution_count": 244
    }
   ],
   "source": [
    "df_coffee_without_duplicates['process'] = df_coffee_without_duplicates['process'].replace(r'^\\s*$', np.nan, regex=True)\n",
    "process = set(df_coffee_without_duplicates['process'])\n",
    "process"
   ]
  },
  {
   "cell_type": "code",
   "execution_count": 245,
   "metadata": {},
   "outputs": [
    {
     "output_type": "execute_result",
     "data": {
      "text/plain": [
       "                                           unique_id  price weight  process  \\\n",
       "0  https://www.coffeedesk.pl/product/17602/Espres...  139.0   1 kg  Natural   \n",
       "1  https://www.coffeedesk.pl/product/17601/Espres...   43.0  250 g  Natural   \n",
       "2  https://www.coffeedesk.pl/product/115/Johan-An...   79.0  500 g      NaN   \n",
       "3  https://www.coffeedesk.pl/product/753/Arcaffe-...   99.0   1 kg      NaN   \n",
       "4  https://www.coffeedesk.pl/product/754/Arcaffe-...   32.0  250 g      NaN   \n",
       "\n",
       "  grind_types   roast      blend  \\\n",
       "0    Espresso  medium  Ziarnista   \n",
       "1    Espresso  medium  Ziarnista   \n",
       "2    Espresso  medium  Ziarnista   \n",
       "3    Espresso  medium  Ziarnista   \n",
       "4    Espresso  medium  Ziarnista   \n",
       "\n",
       "                                         description arabica_robusta  origin  \\\n",
       "0  Maj rozpoczynamy z nowym espresso miesiąca! Ty...    100% Arabica  Uganda   \n",
       "1  Maj rozpoczynamy z nowym espresso miesiąca! Ty...    100% Arabica  Uganda   \n",
       "2  Flagowa mieszanka ziaren jakości speciality ze...    100% Arabica    None   \n",
       "3  Gorgona to nazwa jednej z wysp archipelagu Tus...           85/15  Włochy   \n",
       "4  Gorgona to nazwa jednej z wysp archipelagu Tus...           85/15  Włochy   \n",
       "\n",
       "   weight(g)  price_per_kg  \n",
       "0     1000.0         139.0  \n",
       "1      250.0         172.0  \n",
       "2      500.0         158.0  \n",
       "3     1000.0          99.0  \n",
       "4      250.0         128.0  "
      ],
      "text/html": "<div>\n<style scoped>\n    .dataframe tbody tr th:only-of-type {\n        vertical-align: middle;\n    }\n\n    .dataframe tbody tr th {\n        vertical-align: top;\n    }\n\n    .dataframe thead th {\n        text-align: right;\n    }\n</style>\n<table border=\"1\" class=\"dataframe\">\n  <thead>\n    <tr style=\"text-align: right;\">\n      <th></th>\n      <th>unique_id</th>\n      <th>price</th>\n      <th>weight</th>\n      <th>process</th>\n      <th>grind_types</th>\n      <th>roast</th>\n      <th>blend</th>\n      <th>description</th>\n      <th>arabica_robusta</th>\n      <th>origin</th>\n      <th>weight(g)</th>\n      <th>price_per_kg</th>\n    </tr>\n  </thead>\n  <tbody>\n    <tr>\n      <th>0</th>\n      <td>https://www.coffeedesk.pl/product/17602/Espres...</td>\n      <td>139.0</td>\n      <td>1 kg</td>\n      <td>Natural</td>\n      <td>Espresso</td>\n      <td>medium</td>\n      <td>Ziarnista</td>\n      <td>Maj rozpoczynamy z nowym espresso miesiąca! Ty...</td>\n      <td>100% Arabica</td>\n      <td>Uganda</td>\n      <td>1000.0</td>\n      <td>139.0</td>\n    </tr>\n    <tr>\n      <th>1</th>\n      <td>https://www.coffeedesk.pl/product/17601/Espres...</td>\n      <td>43.0</td>\n      <td>250 g</td>\n      <td>Natural</td>\n      <td>Espresso</td>\n      <td>medium</td>\n      <td>Ziarnista</td>\n      <td>Maj rozpoczynamy z nowym espresso miesiąca! Ty...</td>\n      <td>100% Arabica</td>\n      <td>Uganda</td>\n      <td>250.0</td>\n      <td>172.0</td>\n    </tr>\n    <tr>\n      <th>2</th>\n      <td>https://www.coffeedesk.pl/product/115/Johan-An...</td>\n      <td>79.0</td>\n      <td>500 g</td>\n      <td>NaN</td>\n      <td>Espresso</td>\n      <td>medium</td>\n      <td>Ziarnista</td>\n      <td>Flagowa mieszanka ziaren jakości speciality ze...</td>\n      <td>100% Arabica</td>\n      <td>None</td>\n      <td>500.0</td>\n      <td>158.0</td>\n    </tr>\n    <tr>\n      <th>3</th>\n      <td>https://www.coffeedesk.pl/product/753/Arcaffe-...</td>\n      <td>99.0</td>\n      <td>1 kg</td>\n      <td>NaN</td>\n      <td>Espresso</td>\n      <td>medium</td>\n      <td>Ziarnista</td>\n      <td>Gorgona to nazwa jednej z wysp archipelagu Tus...</td>\n      <td>85/15</td>\n      <td>Włochy</td>\n      <td>1000.0</td>\n      <td>99.0</td>\n    </tr>\n    <tr>\n      <th>4</th>\n      <td>https://www.coffeedesk.pl/product/754/Arcaffe-...</td>\n      <td>32.0</td>\n      <td>250 g</td>\n      <td>NaN</td>\n      <td>Espresso</td>\n      <td>medium</td>\n      <td>Ziarnista</td>\n      <td>Gorgona to nazwa jednej z wysp archipelagu Tus...</td>\n      <td>85/15</td>\n      <td>Włochy</td>\n      <td>250.0</td>\n      <td>128.0</td>\n    </tr>\n  </tbody>\n</table>\n</div>"
     },
     "metadata": {},
     "execution_count": 245
    }
   ],
   "source": [
    "df_coffee_without_duplicates.head()"
   ]
  },
  {
   "cell_type": "code",
   "execution_count": 252,
   "metadata": {},
   "outputs": [],
   "source": [
    "idx = df_coffee_without_duplicates[df_coffee_without_duplicates['blend'] == \"W kapsułkach\"].index\n",
    "df_coffee_without_duplicates = df_coffee_without_duplicates.drop(idx)\n"
   ]
  },
  {
   "cell_type": "code",
   "execution_count": 254,
   "metadata": {},
   "outputs": [
    {
     "output_type": "execute_result",
     "data": {
      "text/plain": [
       "beans       773\n",
       "ground       82\n",
       "capsules      1\n",
       "Name: blend, dtype: int64"
      ]
     },
     "metadata": {},
     "execution_count": 254
    }
   ],
   "source": [
    "df_coffee_without_duplicates['blend'] = df_coffee_without_duplicates['blend'].str.replace(\"Mielona\", \"ground\")\n",
    "df_coffee_without_duplicates['blend'] = df_coffee_without_duplicates['blend'].str.replace(\"Ziarnista\", \"beans\")\n",
    "df_coffee_without_duplicates['blend'].value_counts()"
   ]
  },
  {
   "cell_type": "code",
   "execution_count": 260,
   "metadata": {},
   "outputs": [],
   "source": [
    "df_coffee_without_duplicates['description'] = df_coffee_without_duplicates['description'].replace(r'^\\s*$', np.nan, regex=True)"
   ]
  },
  {
   "cell_type": "code",
   "execution_count": 255,
   "metadata": {},
   "outputs": [
    {
     "output_type": "execute_result",
     "data": {
      "text/plain": [
       "espresso                      401\n",
       "Drip (Metody alternatywne)    382\n",
       "drip, espresso                 72\n",
       "Name: grind_types, dtype: int64"
      ]
     },
     "metadata": {},
     "execution_count": 255
    }
   ],
   "source": [
    "df_coffee_without_duplicates['grind_types'] = df_coffee_without_duplicates['grind_types'].str.replace(\"Drip (Metody alternatywne)\", \"drip\")\n",
    "df_coffee_without_duplicates['grind_types'] = df_coffee_without_duplicates['grind_types'].str.replace(\"Drip i espresso\", \"drip, espresso\")\n",
    "df_coffee_without_duplicates['grind_types'] = df_coffee_without_duplicates['grind_types'].str.replace(\"Espresso\", \"espresso\")\n",
    "df_coffee_without_duplicates['grind_types'].value_counts()"
   ]
  },
  {
   "cell_type": "code",
   "execution_count": 257,
   "metadata": {},
   "outputs": [],
   "source": [
    "df_coffee_without_duplicates.to_csv('data/pl_coffees.csv')"
   ]
  },
  {
   "cell_type": "code",
   "execution_count": 261,
   "metadata": {},
   "outputs": [
    {
     "output_type": "execute_result",
     "data": {
      "text/plain": [
       "    price  process grind_types   roast   blend  \\\n",
       "0   139.0  Natural    espresso  medium   beans   \n",
       "1    43.0  Natural    espresso  medium   beans   \n",
       "2    79.0      NaN    espresso  medium   beans   \n",
       "3    99.0      NaN    espresso  medium   beans   \n",
       "4    32.0      NaN    espresso  medium   beans   \n",
       "5    65.0      NaN    espresso  medium   beans   \n",
       "6    79.0      NaN    espresso  medium   beans   \n",
       "7    99.0      NaN    espresso  medium   beans   \n",
       "8    31.9      NaN    espresso  medium   beans   \n",
       "9   125.0      NaN    espresso  medium   beans   \n",
       "10   36.0      NaN    espresso  medium   beans   \n",
       "11   75.0      NaN    espresso  medium   beans   \n",
       "12   35.0      NaN    espresso  medium  ground   \n",
       "13  109.0      NaN    espresso  medium   beans   \n",
       "14   29.0      NaN    espresso  medium   beans   \n",
       "15   60.0  Natural    espresso  medium   beans   \n",
       "16  120.0   Washed    espresso  medium   beans   \n",
       "17   62.0   Washed    espresso  medium   beans   \n",
       "18  158.0   Washed    espresso  medium   beans   \n",
       "19   50.0   Washed    espresso  medium   beans   \n",
       "\n",
       "                                          description arabica_robusta  \\\n",
       "0   Maj rozpoczynamy z nowym espresso miesiąca! Ty...    100% Arabica   \n",
       "1   Maj rozpoczynamy z nowym espresso miesiąca! Ty...    100% Arabica   \n",
       "2   Flagowa mieszanka ziaren jakości speciality ze...    100% Arabica   \n",
       "3   Gorgona to nazwa jednej z wysp archipelagu Tus...           85/15   \n",
       "4   Gorgona to nazwa jednej z wysp archipelagu Tus...           85/15   \n",
       "5                                                 NaN    100% Arabica   \n",
       "6   Arcaffe Margo to wyważona mieszanka ziaren kaw...           50/50   \n",
       "7   Meloria to mieszanka ziaren arabiki (75%) i ro...           75/25   \n",
       "8   Meloria to mieszanka ziaren arabiki (75%) i ro...           75/25   \n",
       "9   Mokacrema to blend kaw ziarnistych jakości spe...    100% Arabica   \n",
       "10  Mokacrema to blend kaw ziarnistych jakości spe...    100% Arabica   \n",
       "11  Peru Fair Trade Organic to ziarna z odległych ...    100% Arabica   \n",
       "12  Roma to wysokiej jakości słodka mieszanka kaw ...    100% Arabica   \n",
       "13  Roma to najbardziej klasyczna mieszanka z Arca...    100% Arabica   \n",
       "14  Roma to najbardziej klasyczna mieszanka z Arca...    100% Arabica   \n",
       "15  Ziarno jakości speciality pochodzące z Brazyli...    100% Arabica   \n",
       "16  Cuba Espresso to mieszanka kaw ziarnistych z K...    100% Arabica   \n",
       "17  Cuba Espresso to mieszanka kaw ziarnistych z K...    100% Arabica   \n",
       "18  Ziarno z Peru, wypalone przez Mistrza Świata R...    100% Arabica   \n",
       "19  Ziarno z Peru, wypalone przez Mistrza Świata R...    100% Arabica   \n",
       "\n",
       "      origin  weight(g)  price_per_kg  \n",
       "0     Uganda     1000.0         139.0  \n",
       "1     Uganda      250.0         172.0  \n",
       "2       None      500.0         158.0  \n",
       "3     Włochy     1000.0          99.0  \n",
       "4     Włochy      250.0         128.0  \n",
       "5       None      500.0         130.0  \n",
       "6       None     1000.0          79.0  \n",
       "7     Włochy     1000.0          99.0  \n",
       "8     Włochy      250.0         127.6  \n",
       "9       None     1000.0         125.0  \n",
       "10      None      250.0         144.0  \n",
       "11      Peru      500.0         150.0  \n",
       "12      None      250.0         140.0  \n",
       "13      None     1000.0         109.0  \n",
       "14    Włochy      250.0         116.0  \n",
       "15  Brazylia      500.0         120.0  \n",
       "16      None     1000.0         120.0  \n",
       "17      None      500.0         124.0  \n",
       "18      Peru     1000.0         158.0  \n",
       "19      Peru      250.0         200.0  "
      ],
      "text/html": "<div>\n<style scoped>\n    .dataframe tbody tr th:only-of-type {\n        vertical-align: middle;\n    }\n\n    .dataframe tbody tr th {\n        vertical-align: top;\n    }\n\n    .dataframe thead th {\n        text-align: right;\n    }\n</style>\n<table border=\"1\" class=\"dataframe\">\n  <thead>\n    <tr style=\"text-align: right;\">\n      <th></th>\n      <th>price</th>\n      <th>process</th>\n      <th>grind_types</th>\n      <th>roast</th>\n      <th>blend</th>\n      <th>description</th>\n      <th>arabica_robusta</th>\n      <th>origin</th>\n      <th>weight(g)</th>\n      <th>price_per_kg</th>\n    </tr>\n  </thead>\n  <tbody>\n    <tr>\n      <th>0</th>\n      <td>139.0</td>\n      <td>Natural</td>\n      <td>espresso</td>\n      <td>medium</td>\n      <td>beans</td>\n      <td>Maj rozpoczynamy z nowym espresso miesiąca! Ty...</td>\n      <td>100% Arabica</td>\n      <td>Uganda</td>\n      <td>1000.0</td>\n      <td>139.0</td>\n    </tr>\n    <tr>\n      <th>1</th>\n      <td>43.0</td>\n      <td>Natural</td>\n      <td>espresso</td>\n      <td>medium</td>\n      <td>beans</td>\n      <td>Maj rozpoczynamy z nowym espresso miesiąca! Ty...</td>\n      <td>100% Arabica</td>\n      <td>Uganda</td>\n      <td>250.0</td>\n      <td>172.0</td>\n    </tr>\n    <tr>\n      <th>2</th>\n      <td>79.0</td>\n      <td>NaN</td>\n      <td>espresso</td>\n      <td>medium</td>\n      <td>beans</td>\n      <td>Flagowa mieszanka ziaren jakości speciality ze...</td>\n      <td>100% Arabica</td>\n      <td>None</td>\n      <td>500.0</td>\n      <td>158.0</td>\n    </tr>\n    <tr>\n      <th>3</th>\n      <td>99.0</td>\n      <td>NaN</td>\n      <td>espresso</td>\n      <td>medium</td>\n      <td>beans</td>\n      <td>Gorgona to nazwa jednej z wysp archipelagu Tus...</td>\n      <td>85/15</td>\n      <td>Włochy</td>\n      <td>1000.0</td>\n      <td>99.0</td>\n    </tr>\n    <tr>\n      <th>4</th>\n      <td>32.0</td>\n      <td>NaN</td>\n      <td>espresso</td>\n      <td>medium</td>\n      <td>beans</td>\n      <td>Gorgona to nazwa jednej z wysp archipelagu Tus...</td>\n      <td>85/15</td>\n      <td>Włochy</td>\n      <td>250.0</td>\n      <td>128.0</td>\n    </tr>\n    <tr>\n      <th>5</th>\n      <td>65.0</td>\n      <td>NaN</td>\n      <td>espresso</td>\n      <td>medium</td>\n      <td>beans</td>\n      <td>NaN</td>\n      <td>100% Arabica</td>\n      <td>None</td>\n      <td>500.0</td>\n      <td>130.0</td>\n    </tr>\n    <tr>\n      <th>6</th>\n      <td>79.0</td>\n      <td>NaN</td>\n      <td>espresso</td>\n      <td>medium</td>\n      <td>beans</td>\n      <td>Arcaffe Margo to wyważona mieszanka ziaren kaw...</td>\n      <td>50/50</td>\n      <td>None</td>\n      <td>1000.0</td>\n      <td>79.0</td>\n    </tr>\n    <tr>\n      <th>7</th>\n      <td>99.0</td>\n      <td>NaN</td>\n      <td>espresso</td>\n      <td>medium</td>\n      <td>beans</td>\n      <td>Meloria to mieszanka ziaren arabiki (75%) i ro...</td>\n      <td>75/25</td>\n      <td>Włochy</td>\n      <td>1000.0</td>\n      <td>99.0</td>\n    </tr>\n    <tr>\n      <th>8</th>\n      <td>31.9</td>\n      <td>NaN</td>\n      <td>espresso</td>\n      <td>medium</td>\n      <td>beans</td>\n      <td>Meloria to mieszanka ziaren arabiki (75%) i ro...</td>\n      <td>75/25</td>\n      <td>Włochy</td>\n      <td>250.0</td>\n      <td>127.6</td>\n    </tr>\n    <tr>\n      <th>9</th>\n      <td>125.0</td>\n      <td>NaN</td>\n      <td>espresso</td>\n      <td>medium</td>\n      <td>beans</td>\n      <td>Mokacrema to blend kaw ziarnistych jakości spe...</td>\n      <td>100% Arabica</td>\n      <td>None</td>\n      <td>1000.0</td>\n      <td>125.0</td>\n    </tr>\n    <tr>\n      <th>10</th>\n      <td>36.0</td>\n      <td>NaN</td>\n      <td>espresso</td>\n      <td>medium</td>\n      <td>beans</td>\n      <td>Mokacrema to blend kaw ziarnistych jakości spe...</td>\n      <td>100% Arabica</td>\n      <td>None</td>\n      <td>250.0</td>\n      <td>144.0</td>\n    </tr>\n    <tr>\n      <th>11</th>\n      <td>75.0</td>\n      <td>NaN</td>\n      <td>espresso</td>\n      <td>medium</td>\n      <td>beans</td>\n      <td>Peru Fair Trade Organic to ziarna z odległych ...</td>\n      <td>100% Arabica</td>\n      <td>Peru</td>\n      <td>500.0</td>\n      <td>150.0</td>\n    </tr>\n    <tr>\n      <th>12</th>\n      <td>35.0</td>\n      <td>NaN</td>\n      <td>espresso</td>\n      <td>medium</td>\n      <td>ground</td>\n      <td>Roma to wysokiej jakości słodka mieszanka kaw ...</td>\n      <td>100% Arabica</td>\n      <td>None</td>\n      <td>250.0</td>\n      <td>140.0</td>\n    </tr>\n    <tr>\n      <th>13</th>\n      <td>109.0</td>\n      <td>NaN</td>\n      <td>espresso</td>\n      <td>medium</td>\n      <td>beans</td>\n      <td>Roma to najbardziej klasyczna mieszanka z Arca...</td>\n      <td>100% Arabica</td>\n      <td>None</td>\n      <td>1000.0</td>\n      <td>109.0</td>\n    </tr>\n    <tr>\n      <th>14</th>\n      <td>29.0</td>\n      <td>NaN</td>\n      <td>espresso</td>\n      <td>medium</td>\n      <td>beans</td>\n      <td>Roma to najbardziej klasyczna mieszanka z Arca...</td>\n      <td>100% Arabica</td>\n      <td>Włochy</td>\n      <td>250.0</td>\n      <td>116.0</td>\n    </tr>\n    <tr>\n      <th>15</th>\n      <td>60.0</td>\n      <td>Natural</td>\n      <td>espresso</td>\n      <td>medium</td>\n      <td>beans</td>\n      <td>Ziarno jakości speciality pochodzące z Brazyli...</td>\n      <td>100% Arabica</td>\n      <td>Brazylia</td>\n      <td>500.0</td>\n      <td>120.0</td>\n    </tr>\n    <tr>\n      <th>16</th>\n      <td>120.0</td>\n      <td>Washed</td>\n      <td>espresso</td>\n      <td>medium</td>\n      <td>beans</td>\n      <td>Cuba Espresso to mieszanka kaw ziarnistych z K...</td>\n      <td>100% Arabica</td>\n      <td>None</td>\n      <td>1000.0</td>\n      <td>120.0</td>\n    </tr>\n    <tr>\n      <th>17</th>\n      <td>62.0</td>\n      <td>Washed</td>\n      <td>espresso</td>\n      <td>medium</td>\n      <td>beans</td>\n      <td>Cuba Espresso to mieszanka kaw ziarnistych z K...</td>\n      <td>100% Arabica</td>\n      <td>None</td>\n      <td>500.0</td>\n      <td>124.0</td>\n    </tr>\n    <tr>\n      <th>18</th>\n      <td>158.0</td>\n      <td>Washed</td>\n      <td>espresso</td>\n      <td>medium</td>\n      <td>beans</td>\n      <td>Ziarno z Peru, wypalone przez Mistrza Świata R...</td>\n      <td>100% Arabica</td>\n      <td>Peru</td>\n      <td>1000.0</td>\n      <td>158.0</td>\n    </tr>\n    <tr>\n      <th>19</th>\n      <td>50.0</td>\n      <td>Washed</td>\n      <td>espresso</td>\n      <td>medium</td>\n      <td>beans</td>\n      <td>Ziarno z Peru, wypalone przez Mistrza Świata R...</td>\n      <td>100% Arabica</td>\n      <td>Peru</td>\n      <td>250.0</td>\n      <td>200.0</td>\n    </tr>\n  </tbody>\n</table>\n</div>"
     },
     "metadata": {},
     "execution_count": 261
    }
   ],
   "source": [
    "df_coffee_without_duplicates[['price','process', 'grind_types',\t'roast', 'blend', 'description', 'arabica_robusta',\t'origin', 'weight(g)', 'price_per_kg']].head(20)"
   ]
  },
  {
   "source": [
    "# **Clening of data from brewed-scraper**"
   ],
   "cell_type": "markdown",
   "metadata": {}
  },
  {
   "cell_type": "code",
   "execution_count": 278,
   "metadata": {
    "tags": []
   },
   "outputs": [
    {
     "output_type": "error",
     "ename": "JSONDecodeError",
     "evalue": "Extra data: line 1 column 18 (char 17)",
     "traceback": [
      "\u001b[1;31m---------------------------------------------------------------------------\u001b[0m",
      "\u001b[1;31mJSONDecodeError\u001b[0m                           Traceback (most recent call last)",
      "\u001b[1;32m<ipython-input-278-4cf123c64738>\u001b[0m in \u001b[0;36m<module>\u001b[1;34m\u001b[0m\n\u001b[0;32m     11\u001b[0m     \u001b[0mlist_of_dictionaries\u001b[0m \u001b[1;33m=\u001b[0m \u001b[1;33m[\u001b[0m\u001b[1;33m]\u001b[0m\u001b[1;33m\u001b[0m\u001b[1;33m\u001b[0m\u001b[0m\n\u001b[0;32m     12\u001b[0m     \u001b[1;32mfor\u001b[0m \u001b[0mstring\u001b[0m \u001b[1;32min\u001b[0m \u001b[0mlist_of_strings\u001b[0m\u001b[1;33m:\u001b[0m\u001b[1;33m\u001b[0m\u001b[1;33m\u001b[0m\u001b[0m\n\u001b[1;32m---> 13\u001b[1;33m         \u001b[0mdict\u001b[0m \u001b[1;33m=\u001b[0m \u001b[0mjson\u001b[0m\u001b[1;33m.\u001b[0m\u001b[0mloads\u001b[0m\u001b[1;33m(\u001b[0m\u001b[0mstring\u001b[0m\u001b[1;33m)\u001b[0m\u001b[1;33m\u001b[0m\u001b[1;33m\u001b[0m\u001b[0m\n\u001b[0m\u001b[0;32m     14\u001b[0m         \u001b[1;32mtry\u001b[0m\u001b[1;33m:\u001b[0m\u001b[1;33m\u001b[0m\u001b[1;33m\u001b[0m\u001b[0m\n\u001b[0;32m     15\u001b[0m             \u001b[0mprice\u001b[0m \u001b[1;33m=\u001b[0m \u001b[0mstr\u001b[0m\u001b[1;33m(\u001b[0m\u001b[0mdict\u001b[0m\u001b[1;33m[\u001b[0m\u001b[1;34m'price'\u001b[0m\u001b[1;33m]\u001b[0m\u001b[1;33m)\u001b[0m\u001b[1;33m\u001b[0m\u001b[1;33m\u001b[0m\u001b[0m\n",
      "\u001b[1;32m~\\Anaconda3\\lib\\json\\__init__.py\u001b[0m in \u001b[0;36mloads\u001b[1;34m(s, encoding, cls, object_hook, parse_float, parse_int, parse_constant, object_pairs_hook, **kw)\u001b[0m\n\u001b[0;32m    346\u001b[0m             \u001b[0mparse_int\u001b[0m \u001b[1;32mis\u001b[0m \u001b[1;32mNone\u001b[0m \u001b[1;32mand\u001b[0m \u001b[0mparse_float\u001b[0m \u001b[1;32mis\u001b[0m \u001b[1;32mNone\u001b[0m \u001b[1;32mand\u001b[0m\u001b[1;33m\u001b[0m\u001b[1;33m\u001b[0m\u001b[0m\n\u001b[0;32m    347\u001b[0m             parse_constant is None and object_pairs_hook is None and not kw):\n\u001b[1;32m--> 348\u001b[1;33m         \u001b[1;32mreturn\u001b[0m \u001b[0m_default_decoder\u001b[0m\u001b[1;33m.\u001b[0m\u001b[0mdecode\u001b[0m\u001b[1;33m(\u001b[0m\u001b[0ms\u001b[0m\u001b[1;33m)\u001b[0m\u001b[1;33m\u001b[0m\u001b[1;33m\u001b[0m\u001b[0m\n\u001b[0m\u001b[0;32m    349\u001b[0m     \u001b[1;32mif\u001b[0m \u001b[0mcls\u001b[0m \u001b[1;32mis\u001b[0m \u001b[1;32mNone\u001b[0m\u001b[1;33m:\u001b[0m\u001b[1;33m\u001b[0m\u001b[1;33m\u001b[0m\u001b[0m\n\u001b[0;32m    350\u001b[0m         \u001b[0mcls\u001b[0m \u001b[1;33m=\u001b[0m \u001b[0mJSONDecoder\u001b[0m\u001b[1;33m\u001b[0m\u001b[1;33m\u001b[0m\u001b[0m\n",
      "\u001b[1;32m~\\Anaconda3\\lib\\json\\decoder.py\u001b[0m in \u001b[0;36mdecode\u001b[1;34m(self, s, _w)\u001b[0m\n\u001b[0;32m    338\u001b[0m         \u001b[0mend\u001b[0m \u001b[1;33m=\u001b[0m \u001b[0m_w\u001b[0m\u001b[1;33m(\u001b[0m\u001b[0ms\u001b[0m\u001b[1;33m,\u001b[0m \u001b[0mend\u001b[0m\u001b[1;33m)\u001b[0m\u001b[1;33m.\u001b[0m\u001b[0mend\u001b[0m\u001b[1;33m(\u001b[0m\u001b[1;33m)\u001b[0m\u001b[1;33m\u001b[0m\u001b[1;33m\u001b[0m\u001b[0m\n\u001b[0;32m    339\u001b[0m         \u001b[1;32mif\u001b[0m \u001b[0mend\u001b[0m \u001b[1;33m!=\u001b[0m \u001b[0mlen\u001b[0m\u001b[1;33m(\u001b[0m\u001b[0ms\u001b[0m\u001b[1;33m)\u001b[0m\u001b[1;33m:\u001b[0m\u001b[1;33m\u001b[0m\u001b[1;33m\u001b[0m\u001b[0m\n\u001b[1;32m--> 340\u001b[1;33m             \u001b[1;32mraise\u001b[0m \u001b[0mJSONDecodeError\u001b[0m\u001b[1;33m(\u001b[0m\u001b[1;34m\"Extra data\"\u001b[0m\u001b[1;33m,\u001b[0m \u001b[0ms\u001b[0m\u001b[1;33m,\u001b[0m \u001b[0mend\u001b[0m\u001b[1;33m)\u001b[0m\u001b[1;33m\u001b[0m\u001b[1;33m\u001b[0m\u001b[0m\n\u001b[0m\u001b[0;32m    341\u001b[0m         \u001b[1;32mreturn\u001b[0m \u001b[0mobj\u001b[0m\u001b[1;33m\u001b[0m\u001b[1;33m\u001b[0m\u001b[0m\n\u001b[0;32m    342\u001b[0m \u001b[1;33m\u001b[0m\u001b[0m\n",
      "\u001b[1;31mJSONDecodeError\u001b[0m: Extra data: line 1 column 18 (char 17)"
     ]
    }
   ],
   "source": [
    "with open('data/data_brew.json', 'r', encoding='ascii') as json_file2:\n",
    "    data = json_file2.read().replace('\\n', '')\n",
    "    data = data.replace('[', '')\n",
    "    data = data.replace(']', '')\n",
    "    data = data.replace('},', '}')\n",
    "\n",
    "    list_of_strings = data.split(\"{\")\n",
    "    list_of_strings = list_of_strings[1:]\n",
    "    # print(list_of_strings[0])\n",
    "\n",
    "    list_of_dictionaries = []\n",
    "    for string in list_of_strings:\n",
    "        dict = json.loads(string)\n",
    "        try:\n",
    "            price = str(dict['price'])\n",
    "        except:\n",
    "            price = \"0\"\n",
    "        try:\n",
    "            weight = dict['weight']\n",
    "        except:\n",
    "            weight = None\n",
    "        try:\n",
    "            process = dict['process']\n",
    "        except:\n",
    "            process = None\n",
    "        try:\n",
    "            grind_types = dict['grind_types']\n",
    "        except:\n",
    "            grind_types = None\n",
    "        roast = 'No info'\n",
    "        blend = 'No info'\n",
    "        try:\n",
    "            description = dict['flavor']\n",
    "        except:\n",
    "            description = None\n",
    "        arabica_robusta = 'No info'\n",
    "        try:\n",
    "            origin = dict['origin']\n",
    "        except:\n",
    "            origin = None\n",
    "\n",
    "        coffee_dictionary = {\n",
    "            \"unique_id\" : unique_id,\n",
    "            \"price\" : price,\n",
    "            \"weight\" : weight,\n",
    "            \"process\" : process,\n",
    "            \"grind_types\" : grind_types,\n",
    "            \"roast\" : roast,\n",
    "            \"blend\" : blend,\n",
    "            \"description\" : description,\n",
    "            \"arabica_robusta\" : arabica_robusta,\n",
    "            \"origin\" : origin\n",
    "        }\n",
    "        list_of_dictionaries.append(coffee_dictionary)"
   ]
  },
  {
   "cell_type": "code",
   "execution_count": null,
   "metadata": {},
   "outputs": [],
   "source": []
  }
 ]
}