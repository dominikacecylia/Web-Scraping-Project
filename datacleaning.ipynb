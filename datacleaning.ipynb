{
 "metadata": {
  "language_info": {
   "codemirror_mode": {
    "name": "ipython",
    "version": 3
   },
   "file_extension": ".py",
   "mimetype": "text/x-python",
   "name": "python",
   "nbconvert_exporter": "python",
   "pygments_lexer": "ipython3",
   "version": "3.7.4"
  },
  "orig_nbformat": 2,
  "kernelspec": {
   "name": "python374jvsc74a57bd0c93df55f5f202384f3bb5a80607004194cd8c49f314b34663a631fdaa9229f8e",
   "display_name": "Python 3.7.4 64-bit ('base': conda)"
  }
 },
 "nbformat": 4,
 "nbformat_minor": 2,
 "cells": [
  {
   "cell_type": "code",
   "execution_count": 2,
   "metadata": {},
   "outputs": [],
   "source": [
    "import json\n",
    "import pandas as pd"
   ]
  },
  {
   "cell_type": "code",
   "execution_count": 30,
   "metadata": {},
   "outputs": [],
   "source": [
    "with open('data/data_pl_coffee_all.json', 'r', encoding='ascii') as json_file:\n",
    "    data = json_file.read().replace('\\n', '')\n",
    "    data = data.replace('[', '')\n",
    "    data = data.replace(']', '')\n",
    "    data = data.replace('},', '}')\n",
    "\n",
    "    list_of_strings = data.split(\"{\")\n",
    "    list_of_strings = list_of_strings[1:] \n",
    "\n",
    "    list_of_corrected_strings = []\n",
    "    for dict in list_of_strings:\n",
    "        list_of_corrected_strings.append('{' + dict)\n",
    "\n",
    "    list_of_dictionaries = []\n",
    "    for string in list_of_corrected_strings:\n",
    "        dict = json.loads(string)\n",
    "        unique_id = dict['unique_id']\n",
    "        try:\n",
    "            price = str(dict['price'])\n",
    "        except:\n",
    "            price = 0\n",
    "        try:\n",
    "            weight = dict['Opakowanie:']\n",
    "        except:\n",
    "            weight = \"\"\n",
    "        try:\n",
    "            process = dict['Obróbka:']\n",
    "        except:\n",
    "            process = \"\"\n",
    "        try:\n",
    "            grind_types = dict['Przeznaczenie:']\n",
    "        except:\n",
    "            grind_types = ''\n",
    "        try:\n",
    "            roast = dict['Stopień palenia ziaren:']\n",
    "        except:\n",
    "            roast = ''\n",
    "        try:\n",
    "            blend = dict['Rodzaj kawy:']\n",
    "        except:\n",
    "            blend = ''\n",
    "        try:\n",
    "            description = dict['description']\n",
    "        except:\n",
    "            description = \"\"\n",
    "\n",
    "        coffee_dictionary = {\n",
    "            \"unique_id\" : unique_id,\n",
    "            \"price\" : price,\n",
    "            \"weight\" : weight,\n",
    "            \"process\" : process,\n",
    "            \"grind_types\" : grind_types,\n",
    "            \"roast\" : roast,\n",
    "            \"blend\" : blend,\n",
    "            \"description\" : description\n",
    "        }\n",
    "        list_of_dictionaries.append(coffee_dictionary)"
   ]
  },
  {
   "cell_type": "code",
   "execution_count": 31,
   "metadata": {},
   "outputs": [],
   "source": [
    "# dictionary_test = list_of_dictionaries[0].keys()\n",
    "df_coffee = pd.DataFrame(columns=['unique_id', 'price', 'weight', 'process', 'grind_types', 'roast', 'blend', 'description'])"
   ]
  },
  {
   "cell_type": "code",
   "execution_count": 32,
   "metadata": {},
   "outputs": [],
   "source": [
    "for idx, dict in enumerate(list_of_dictionaries): #merging dictionaries into df\n",
    "        df = pd.DataFrame(dict, index=[idx])\n",
    "        df_coffee = df_coffee.append(df)"
   ]
  },
  {
   "cell_type": "code",
   "execution_count": 138,
   "metadata": {},
   "outputs": [
    {
     "output_type": "execute_result",
     "data": {
      "text/plain": [
       "                                           unique_id      price weight  \\\n",
       "0  https://www.coffeedesk.pl/product/17602/Espres...  139,00 zł   1 kg   \n",
       "1  https://www.coffeedesk.pl/product/17601/Espres...   43,00 zł  250 g   \n",
       "2  https://www.coffeedesk.pl/product/115/Johan-An...   79,00 zł  500 g   \n",
       "3  https://www.coffeedesk.pl/product/753/Arcaffe-...   99,00 zł   1 kg   \n",
       "4  https://www.coffeedesk.pl/product/754/Arcaffe-...   32,00 zł  250 g   \n",
       "5  https://www.coffeedesk.pl/product/5874/Arcaffe...   65,00 zł  500 g   \n",
       "6  https://www.coffeedesk.pl/product/272/Arcaffe-...   79,00 zł   1 kg   \n",
       "7  https://www.coffeedesk.pl/product/267/Arcaffe-...   99,00 zł   1 kg   \n",
       "8  https://www.coffeedesk.pl/product/268/Arcaffe-...   31,90 zł  250 g   \n",
       "9  https://www.coffeedesk.pl/product/269/Arcaffe-...  125,00 zł   1 kg   \n",
       "\n",
       "   process grind_types   roast      blend  \\\n",
       "0  Natural    Espresso  Średni  Ziarnista   \n",
       "1  Natural    Espresso  Średni  Ziarnista   \n",
       "2             Espresso  Średni  Ziarnista   \n",
       "3             Espresso  Średni  Ziarnista   \n",
       "4             Espresso  Średni  Ziarnista   \n",
       "5             Espresso  Średni  Ziarnista   \n",
       "6             Espresso  Średni  Ziarnista   \n",
       "7             Espresso  Średni  Ziarnista   \n",
       "8             Espresso  Średni  Ziarnista   \n",
       "9             Espresso  Średni  Ziarnista   \n",
       "\n",
       "                                         description  \n",
       "0  Maj rozpoczynamy z nowym espresso miesiąca! Ty...  \n",
       "1  Maj rozpoczynamy z nowym espresso miesiąca! Ty...  \n",
       "2  Flagowa mieszanka ziaren jakości speciality ze...  \n",
       "3  Gorgona to nazwa jednej z wysp archipelagu Tus...  \n",
       "4  Gorgona to nazwa jednej z wysp archipelagu Tus...  \n",
       "5                                                     \n",
       "6  Arcaffe Margo to wyważona mieszanka ziaren kaw...  \n",
       "7  Meloria to mieszanka ziaren arabiki (75%) i ro...  \n",
       "8  Meloria to mieszanka ziaren arabiki (75%) i ro...  \n",
       "9  Mokacrema to blend kaw ziarnistych jakości spe...  "
      ],
      "text/html": "<div>\n<style scoped>\n    .dataframe tbody tr th:only-of-type {\n        vertical-align: middle;\n    }\n\n    .dataframe tbody tr th {\n        vertical-align: top;\n    }\n\n    .dataframe thead th {\n        text-align: right;\n    }\n</style>\n<table border=\"1\" class=\"dataframe\">\n  <thead>\n    <tr style=\"text-align: right;\">\n      <th></th>\n      <th>unique_id</th>\n      <th>price</th>\n      <th>weight</th>\n      <th>process</th>\n      <th>grind_types</th>\n      <th>roast</th>\n      <th>blend</th>\n      <th>description</th>\n    </tr>\n  </thead>\n  <tbody>\n    <tr>\n      <th>0</th>\n      <td>https://www.coffeedesk.pl/product/17602/Espres...</td>\n      <td>139,00 zł</td>\n      <td>1 kg</td>\n      <td>Natural</td>\n      <td>Espresso</td>\n      <td>Średni</td>\n      <td>Ziarnista</td>\n      <td>Maj rozpoczynamy z nowym espresso miesiąca! Ty...</td>\n    </tr>\n    <tr>\n      <th>1</th>\n      <td>https://www.coffeedesk.pl/product/17601/Espres...</td>\n      <td>43,00 zł</td>\n      <td>250 g</td>\n      <td>Natural</td>\n      <td>Espresso</td>\n      <td>Średni</td>\n      <td>Ziarnista</td>\n      <td>Maj rozpoczynamy z nowym espresso miesiąca! Ty...</td>\n    </tr>\n    <tr>\n      <th>2</th>\n      <td>https://www.coffeedesk.pl/product/115/Johan-An...</td>\n      <td>79,00 zł</td>\n      <td>500 g</td>\n      <td></td>\n      <td>Espresso</td>\n      <td>Średni</td>\n      <td>Ziarnista</td>\n      <td>Flagowa mieszanka ziaren jakości speciality ze...</td>\n    </tr>\n    <tr>\n      <th>3</th>\n      <td>https://www.coffeedesk.pl/product/753/Arcaffe-...</td>\n      <td>99,00 zł</td>\n      <td>1 kg</td>\n      <td></td>\n      <td>Espresso</td>\n      <td>Średni</td>\n      <td>Ziarnista</td>\n      <td>Gorgona to nazwa jednej z wysp archipelagu Tus...</td>\n    </tr>\n    <tr>\n      <th>4</th>\n      <td>https://www.coffeedesk.pl/product/754/Arcaffe-...</td>\n      <td>32,00 zł</td>\n      <td>250 g</td>\n      <td></td>\n      <td>Espresso</td>\n      <td>Średni</td>\n      <td>Ziarnista</td>\n      <td>Gorgona to nazwa jednej z wysp archipelagu Tus...</td>\n    </tr>\n    <tr>\n      <th>5</th>\n      <td>https://www.coffeedesk.pl/product/5874/Arcaffe...</td>\n      <td>65,00 zł</td>\n      <td>500 g</td>\n      <td></td>\n      <td>Espresso</td>\n      <td>Średni</td>\n      <td>Ziarnista</td>\n      <td></td>\n    </tr>\n    <tr>\n      <th>6</th>\n      <td>https://www.coffeedesk.pl/product/272/Arcaffe-...</td>\n      <td>79,00 zł</td>\n      <td>1 kg</td>\n      <td></td>\n      <td>Espresso</td>\n      <td>Średni</td>\n      <td>Ziarnista</td>\n      <td>Arcaffe Margo to wyważona mieszanka ziaren kaw...</td>\n    </tr>\n    <tr>\n      <th>7</th>\n      <td>https://www.coffeedesk.pl/product/267/Arcaffe-...</td>\n      <td>99,00 zł</td>\n      <td>1 kg</td>\n      <td></td>\n      <td>Espresso</td>\n      <td>Średni</td>\n      <td>Ziarnista</td>\n      <td>Meloria to mieszanka ziaren arabiki (75%) i ro...</td>\n    </tr>\n    <tr>\n      <th>8</th>\n      <td>https://www.coffeedesk.pl/product/268/Arcaffe-...</td>\n      <td>31,90 zł</td>\n      <td>250 g</td>\n      <td></td>\n      <td>Espresso</td>\n      <td>Średni</td>\n      <td>Ziarnista</td>\n      <td>Meloria to mieszanka ziaren arabiki (75%) i ro...</td>\n    </tr>\n    <tr>\n      <th>9</th>\n      <td>https://www.coffeedesk.pl/product/269/Arcaffe-...</td>\n      <td>125,00 zł</td>\n      <td>1 kg</td>\n      <td></td>\n      <td>Espresso</td>\n      <td>Średni</td>\n      <td>Ziarnista</td>\n      <td>Mokacrema to blend kaw ziarnistych jakości spe...</td>\n    </tr>\n  </tbody>\n</table>\n</div>"
     },
     "metadata": {},
     "execution_count": 138
    }
   ],
   "source": [
    "df_coffee_without_duplicates = df_coffee.drop_duplicates(keep=\"first\", inplace=False) # removing duplicates\n",
    "df_coffee_without_duplicates.head(10)"
   ]
  },
  {
   "cell_type": "code",
   "execution_count": 139,
   "metadata": {},
   "outputs": [
    {
     "output_type": "execute_result",
     "data": {
      "text/plain": [
       "unique_id      object\n",
       "price          object\n",
       "weight         object\n",
       "process        object\n",
       "grind_types    object\n",
       "roast          object\n",
       "blend          object\n",
       "description    object\n",
       "dtype: object"
      ]
     },
     "metadata": {},
     "execution_count": 139
    }
   ],
   "source": [
    "df_coffee_without_duplicates.dtypes"
   ]
  },
  {
   "cell_type": "code",
   "execution_count": 140,
   "metadata": {},
   "outputs": [],
   "source": [
    "df_coffee_without_duplicates = df_coffee_without_duplicates.astype(\"str\")"
   ]
  },
  {
   "cell_type": "code",
   "execution_count": 141,
   "metadata": {},
   "outputs": [
    {
     "output_type": "execute_result",
     "data": {
      "text/plain": [
       "0    139.0\n",
       "1     43.0\n",
       "2     79.0\n",
       "3     99.0\n",
       "4     32.0\n",
       "Name: price, dtype: float64"
      ]
     },
     "metadata": {},
     "execution_count": 141
    }
   ],
   "source": [
    "df_coffee_without_duplicates[\"price\"] = df_coffee_without_duplicates[\"price\"].str.strip(\" zł\")\n",
    "df_coffee_without_duplicates[\"price\"] = df_coffee_without_duplicates[\"price\"].str.replace(\",\", \".\")\n",
    "df_coffee_without_duplicates[\"price\"] = df_coffee_without_duplicates[\"price\"].astype(\"float\")\n",
    "df_coffee_without_duplicates[\"price\"].head()\n"
   ]
  },
  {
   "cell_type": "code",
   "execution_count": 142,
   "metadata": {},
   "outputs": [
    {
     "output_type": "execute_result",
     "data": {
      "text/plain": [
       "250 g      541\n",
       "1000       163\n",
       "500 g       54\n",
       "200 g       50\n",
       "            16\n",
       "88          11\n",
       "125 g       10\n",
       "300 g        7\n",
       "11 g         5\n",
       "70g          4\n",
       "252 g        4\n",
       "200 ml       3\n",
       "10g          3\n",
       "400g         2\n",
       "6000 kg      2\n",
       "90 g         1\n",
       "6000         1\n",
       "400 g        1\n",
       "360g         1\n",
       "330g         1\n",
       "1250g        1\n",
       "150 g        1\n",
       "100 g        1\n",
       "Name: weight(g), dtype: int64"
      ]
     },
     "metadata": {},
     "execution_count": 142
    }
   ],
   "source": [
    "df_coffee_without_duplicates[\"weight(g)\"] = df_coffee_without_duplicates[\"weight\"].str.replace(\"6 sztuk\", \"6000\")\n",
    "df_coffee_without_duplicates[\"weight(g)\"] = df_coffee_without_duplicates[\"weight(g)\"].str.replace(\"5 x 250\", \"1250\")\n",
    "df_coffee_without_duplicates[\"weight(g)\"] = df_coffee_without_duplicates[\"weight(g)\"].str.replace(\"8 x 11g\", \"88\")\n",
    "df_coffee_without_duplicates[\"weight(g)\"] = df_coffee_without_duplicates[\"weight(g)\"].str.replace(\"7 x 10\", \"70\")\n",
    "df_coffee_without_duplicates[\"weight(g)\"] = df_coffee_without_duplicates[\"weight(g)\"].str.replace(\"6 x 60\", \"360\")\n",
    "df_coffee_without_duplicates[\"weight(g)\"] = df_coffee_without_duplicates[\"weight(g)\"].str.replace(\"6 x 55\", \"330\")\n",
    "df_coffee_without_duplicates[\"weight(g)\"] = df_coffee_without_duplicates[\"weight(g)\"].str.replace(\"2 x 200\", \"400\")\n",
    "df_coffee_without_duplicates[\"weight(g)\"] = df_coffee_without_duplicates[\"weight(g)\"].str.replace(\"5 x 100\", \"400\")\n",
    "df_coffee_without_duplicates[\"weight(g)\"] = df_coffee_without_duplicates[\"weight(g)\"].str.replace(\"6x 1\", \"6000\")\n",
    "df_coffee_without_duplicates[\"weight(g)\"] = df_coffee_without_duplicates[\"weight(g)\"].str.replace(\"1 kg\", \"1000\")\n",
    "df_coffee_without_duplicates = df_coffee_without_duplicates[df_coffee_without_duplicates.weight != '10 saszetek']\n",
    "df_coffee_without_duplicates = df_coffee_without_duplicates[df_coffee_without_duplicates.weight != '10 sztuk']\n",
    "\n",
    "df_coffee_without_duplicates[\"weight(g)\"].value_counts()"
   ]
  },
  {
   "cell_type": "code",
   "execution_count": 143,
   "metadata": {},
   "outputs": [
    {
     "output_type": "execute_result",
     "data": {
      "text/plain": [
       "250     541\n",
       "1000    163\n",
       "500      54\n",
       "200      53\n",
       "         16\n",
       "88       11\n",
       "125      10\n",
       "300       7\n",
       "11        5\n",
       "252       4\n",
       "70        4\n",
       "400       3\n",
       "6000      3\n",
       "10        3\n",
       "150       1\n",
       "100       1\n",
       "90        1\n",
       "360       1\n",
       "1250      1\n",
       "330       1\n",
       "Name: weight(g), dtype: int64"
      ]
     },
     "metadata": {},
     "execution_count": 143
    }
   ],
   "source": [
    "df_coffee_without_duplicates[\"weight(g)\"] = df_coffee_without_duplicates[\"weight(g)\"].str.strip(\" kg\")\n",
    "df_coffee_without_duplicates[\"weight(g)\"] = df_coffee_without_duplicates[\"weight(g)\"].str.strip(\" g\")\n",
    "df_coffee_without_duplicates[\"weight(g)\"] = df_coffee_without_duplicates[\"weight(g)\"].str.strip(\" ml\")\n",
    "df_coffee_without_duplicates[\"weight(g)\"] = df_coffee_without_duplicates[\"weight(g)\"].fillna(0)\n",
    "\n",
    "df_coffee_without_duplicates[\"weight(g)\"].value_counts()"
   ]
  },
  {
   "cell_type": "code",
   "execution_count": 144,
   "metadata": {},
   "outputs": [
    {
     "output_type": "execute_result",
     "data": {
      "text/plain": [
       "0       1000\n",
       "1        250\n",
       "2        500\n",
       "3       1000\n",
       "4        250\n",
       "        ... \n",
       "4243    1000\n",
       "4244     250\n",
       "4245     250\n",
       "4246        \n",
       "4247     250\n",
       "Name: weight(g), Length: 883, dtype: object"
      ]
     },
     "metadata": {},
     "execution_count": 144
    }
   ],
   "source": [
    "df_coffee_without_duplicates[\"weight(g)\"]"
   ]
  },
  {
   "cell_type": "code",
   "execution_count": 145,
   "metadata": {},
   "outputs": [
    {
     "output_type": "execute_result",
     "data": {
      "text/plain": [
       "883"
      ]
     },
     "metadata": {},
     "execution_count": 145
    }
   ],
   "source": [
    "len(df_coffee_without_duplicates)\n"
   ]
  },
  {
   "cell_type": "code",
   "execution_count": 146,
   "metadata": {},
   "outputs": [
    {
     "output_type": "execute_result",
     "data": {
      "text/plain": [
       "Jasny     383\n",
       "Średni    277\n",
       "Ciemny    198\n",
       "           25\n",
       "Name: roast, dtype: int64"
      ]
     },
     "metadata": {},
     "execution_count": 146
    }
   ],
   "source": [
    "df_coffee_without_duplicates['roast'].value_counts()"
   ]
  },
  {
   "cell_type": "code",
   "execution_count": 147,
   "metadata": {},
   "outputs": [
    {
     "output_type": "execute_result",
     "data": {
      "text/plain": [
       "light     383\n",
       "medium    277\n",
       "dark      198\n",
       "           25\n",
       "Name: roast, dtype: int64"
      ]
     },
     "metadata": {},
     "execution_count": 147
    }
   ],
   "source": [
    "df_coffee_without_duplicates['roast'] = df_coffee_without_duplicates['roast'].str.replace(\"Jasny\", \"light\")\n",
    "df_coffee_without_duplicates['roast'] = df_coffee_without_duplicates['roast'].str.replace(\"Średni\", \"medium\")\n",
    "df_coffee_without_duplicates['roast'] = df_coffee_without_duplicates['roast'].str.replace(\"Ciemny\", \"dark\")\n",
    "df_coffee_without_duplicates['roast'].value_counts()"
   ]
  },
  {
   "cell_type": "code",
   "execution_count": 148,
   "metadata": {},
   "outputs": [],
   "source": [
    "import numpy as np"
   ]
  },
  {
   "cell_type": "code",
   "execution_count": 152,
   "metadata": {},
   "outputs": [
    {
     "output_type": "execute_result",
     "data": {
      "text/plain": [
       "Int64Index([ 337,  339,  342,  343,  344,  345,  346, 1737, 1738, 1739, 1756,\n",
       "            2450, 2451, 2452, 3296, 4246],\n",
       "           dtype='int64')"
      ]
     },
     "metadata": {},
     "execution_count": 152
    }
   ],
   "source": [
    "# np.where(df_coffee_without_duplicates.applymap(lambda x: x ==''))\n",
    "df_coffee_without_duplicates[df_coffee_without_duplicates[\"weight(g)\"] == ''].index"
   ]
  },
  {
   "cell_type": "code",
   "execution_count": 164,
   "metadata": {},
   "outputs": [],
   "source": [
    "df_coffee_without_duplicates.loc[337,\"weight(g)\"] = 0 # replacing empty cells as fillna did not worl\n",
    "df_coffee_without_duplicates.loc[339,\"weight(g)\"] = 0\n",
    "df_coffee_without_duplicates.loc[342:346,\"weight(g)\"] = 0\n",
    "df_coffee_without_duplicates.loc[1737:1739,\"weight(g)\"] = 0\n",
    "df_coffee_without_duplicates.loc[1756,\"weight(g)\"] = 0\n",
    "df_coffee_without_duplicates.loc[2450:2452,\"weight(g)\"] = 0\n",
    "df_coffee_without_duplicates.loc[3296,\"weight(g)\"] = 0\n",
    "df_coffee_without_duplicates.loc[4246,\"weight(g)\"] = 0"
   ]
  },
  {
   "cell_type": "code",
   "execution_count": 168,
   "metadata": {},
   "outputs": [],
   "source": [
    "df_coffee_without_duplicates[df_coffee_without_duplicates[\"weight(g)\"] == ''].index\n",
    "df_coffee_without_duplicates[\"weight(g)\"] = df_coffee_without_duplicates[\"weight(g)\"].astype(\"float\")"
   ]
  },
  {
   "cell_type": "code",
   "execution_count": 170,
   "metadata": {},
   "outputs": [
    {
     "output_type": "execute_result",
     "data": {
      "text/plain": [
       "                                           unique_id  price weight  process  \\\n",
       "0  https://www.coffeedesk.pl/product/17602/Espres...  139.0   1 kg  Natural   \n",
       "1  https://www.coffeedesk.pl/product/17601/Espres...   43.0  250 g  Natural   \n",
       "2  https://www.coffeedesk.pl/product/115/Johan-An...   79.0  500 g            \n",
       "3  https://www.coffeedesk.pl/product/753/Arcaffe-...   99.0   1 kg            \n",
       "4  https://www.coffeedesk.pl/product/754/Arcaffe-...   32.0  250 g            \n",
       "\n",
       "  grind_types   roast      blend  \\\n",
       "0    Espresso  medium  Ziarnista   \n",
       "1    Espresso  medium  Ziarnista   \n",
       "2    Espresso  medium  Ziarnista   \n",
       "3    Espresso  medium  Ziarnista   \n",
       "4    Espresso  medium  Ziarnista   \n",
       "\n",
       "                                         description  weight(g)  price_per_kg  \n",
       "0  Maj rozpoczynamy z nowym espresso miesiąca! Ty...     1000.0         139.0  \n",
       "1  Maj rozpoczynamy z nowym espresso miesiąca! Ty...      250.0         172.0  \n",
       "2  Flagowa mieszanka ziaren jakości speciality ze...      500.0         158.0  \n",
       "3  Gorgona to nazwa jednej z wysp archipelagu Tus...     1000.0          99.0  \n",
       "4  Gorgona to nazwa jednej z wysp archipelagu Tus...      250.0         128.0  "
      ],
      "text/html": "<div>\n<style scoped>\n    .dataframe tbody tr th:only-of-type {\n        vertical-align: middle;\n    }\n\n    .dataframe tbody tr th {\n        vertical-align: top;\n    }\n\n    .dataframe thead th {\n        text-align: right;\n    }\n</style>\n<table border=\"1\" class=\"dataframe\">\n  <thead>\n    <tr style=\"text-align: right;\">\n      <th></th>\n      <th>unique_id</th>\n      <th>price</th>\n      <th>weight</th>\n      <th>process</th>\n      <th>grind_types</th>\n      <th>roast</th>\n      <th>blend</th>\n      <th>description</th>\n      <th>weight(g)</th>\n      <th>price_per_kg</th>\n    </tr>\n  </thead>\n  <tbody>\n    <tr>\n      <th>0</th>\n      <td>https://www.coffeedesk.pl/product/17602/Espres...</td>\n      <td>139.0</td>\n      <td>1 kg</td>\n      <td>Natural</td>\n      <td>Espresso</td>\n      <td>medium</td>\n      <td>Ziarnista</td>\n      <td>Maj rozpoczynamy z nowym espresso miesiąca! Ty...</td>\n      <td>1000.0</td>\n      <td>139.0</td>\n    </tr>\n    <tr>\n      <th>1</th>\n      <td>https://www.coffeedesk.pl/product/17601/Espres...</td>\n      <td>43.0</td>\n      <td>250 g</td>\n      <td>Natural</td>\n      <td>Espresso</td>\n      <td>medium</td>\n      <td>Ziarnista</td>\n      <td>Maj rozpoczynamy z nowym espresso miesiąca! Ty...</td>\n      <td>250.0</td>\n      <td>172.0</td>\n    </tr>\n    <tr>\n      <th>2</th>\n      <td>https://www.coffeedesk.pl/product/115/Johan-An...</td>\n      <td>79.0</td>\n      <td>500 g</td>\n      <td></td>\n      <td>Espresso</td>\n      <td>medium</td>\n      <td>Ziarnista</td>\n      <td>Flagowa mieszanka ziaren jakości speciality ze...</td>\n      <td>500.0</td>\n      <td>158.0</td>\n    </tr>\n    <tr>\n      <th>3</th>\n      <td>https://www.coffeedesk.pl/product/753/Arcaffe-...</td>\n      <td>99.0</td>\n      <td>1 kg</td>\n      <td></td>\n      <td>Espresso</td>\n      <td>medium</td>\n      <td>Ziarnista</td>\n      <td>Gorgona to nazwa jednej z wysp archipelagu Tus...</td>\n      <td>1000.0</td>\n      <td>99.0</td>\n    </tr>\n    <tr>\n      <th>4</th>\n      <td>https://www.coffeedesk.pl/product/754/Arcaffe-...</td>\n      <td>32.0</td>\n      <td>250 g</td>\n      <td></td>\n      <td>Espresso</td>\n      <td>medium</td>\n      <td>Ziarnista</td>\n      <td>Gorgona to nazwa jednej z wysp archipelagu Tus...</td>\n      <td>250.0</td>\n      <td>128.0</td>\n    </tr>\n  </tbody>\n</table>\n</div>"
     },
     "metadata": {},
     "execution_count": 170
    }
   ],
   "source": [
    "df_coffee_without_duplicates['price_per_kg'] = df_coffee_without_duplicates[\"price\"].div(df_coffee_without_duplicates[\"weight(g)\"]).mul(1000)\n",
    "\n",
    "df_coffee_without_duplicates.head()"
   ]
  },
  {
   "cell_type": "code",
   "execution_count": 185,
   "metadata": {},
   "outputs": [
    {
     "output_type": "execute_result",
     "data": {
      "text/plain": [
       "{'', 'Mielona', 'W kapsułkach', 'Ziarnista'}"
      ]
     },
     "metadata": {},
     "execution_count": 185
    }
   ],
   "source": [
    "blend = set(df_coffee_without_duplicates['blend'])\n",
    "blend"
   ]
  },
  {
   "cell_type": "code",
   "execution_count": 191,
   "metadata": {},
   "outputs": [],
   "source": [
    "df_coffee_without_duplicates['blend'] = df_coffee_without_duplicates['blend'].replace(r'^\\s*$', np.nan, regex=True)"
   ]
  },
  {
   "cell_type": "code",
   "execution_count": 184,
   "metadata": {},
   "outputs": [
    {
     "output_type": "execute_result",
     "data": {
      "text/plain": [
       "{'', 'Drip (Metody alternatywne)', 'Drip i espresso', 'Espresso'}"
      ]
     },
     "metadata": {},
     "execution_count": 184
    }
   ],
   "source": [
    "grind = set(df_coffee_without_duplicates['grind_types'])\n",
    "grind"
   ]
  },
  {
   "cell_type": "code",
   "execution_count": 192,
   "metadata": {},
   "outputs": [],
   "source": [
    "df_coffee_without_duplicates['grind_types'] = df_coffee_without_duplicates['grind_types'].replace(r'^\\s*$', np.nan, regex=True)"
   ]
  },
  {
   "cell_type": "code",
   "execution_count": 175,
   "metadata": {},
   "outputs": [
    {
     "output_type": "execute_result",
     "data": {
      "text/plain": [
       "{'',\n",
       " 'Aerobic Fermentation in Piles',\n",
       " 'Anaerobic',\n",
       " 'Anaerobic natural',\n",
       " 'Black Honey',\n",
       " 'CRYO',\n",
       " 'Carbonic Maceration',\n",
       " 'Closed Tank Fermentation',\n",
       " 'Experimental',\n",
       " 'Experimental Anaerobic',\n",
       " 'Fermentacja kontrolowana',\n",
       " 'Honey',\n",
       " 'Honey + Anaerobic',\n",
       " 'Hybrid Natural',\n",
       " 'Macerated Natural',\n",
       " 'Monsooning',\n",
       " 'Natural',\n",
       " 'Pulped natural',\n",
       " 'Red Honey',\n",
       " 'Rum Aged',\n",
       " 'Semi-Carbonic Maceration',\n",
       " 'Semi-Washed Kombucha Experiment',\n",
       " 'Semi-washed',\n",
       " 'Washed',\n",
       " 'Washed Anaerobic',\n",
       " 'Washed Double Anaerobic',\n",
       " 'Washed i natural',\n",
       " 'Washed, Barrel Aged',\n",
       " 'Wet-hulling',\n",
       " 'Yeast Process',\n",
       " 'Yellow Bourbon',\n",
       " 'Yellow Honey'}"
      ]
     },
     "metadata": {},
     "execution_count": 175
    }
   ],
   "source": [
    "process = set(df_coffee_without_duplicates['process'])\n",
    "process"
   ]
  },
  {
   "cell_type": "code",
   "execution_count": 186,
   "metadata": {},
   "outputs": [
    {
     "output_type": "execute_result",
     "data": {
      "text/plain": [
       "{'Aerobic Fermentation in Piles',\n",
       " 'Anaerobic',\n",
       " 'Anaerobic natural',\n",
       " 'Black Honey',\n",
       " 'CRYO',\n",
       " 'Carbonic Maceration',\n",
       " 'Closed Tank Fermentation',\n",
       " 'Experimental',\n",
       " 'Experimental Anaerobic',\n",
       " 'Fermentacja kontrolowana',\n",
       " 'Honey',\n",
       " 'Honey + Anaerobic',\n",
       " 'Hybrid Natural',\n",
       " 'Macerated Natural',\n",
       " 'Monsooning',\n",
       " 'Natural',\n",
       " 'Pulped natural',\n",
       " 'Red Honey',\n",
       " 'Rum Aged',\n",
       " 'Semi-Carbonic Maceration',\n",
       " 'Semi-Washed Kombucha Experiment',\n",
       " 'Semi-washed',\n",
       " 'Washed',\n",
       " 'Washed Anaerobic',\n",
       " 'Washed Double Anaerobic',\n",
       " 'Washed i natural',\n",
       " 'Washed, Barrel Aged',\n",
       " 'Wet-hulling',\n",
       " 'Yeast Process',\n",
       " 'Yellow Bourbon',\n",
       " 'Yellow Honey',\n",
       " nan}"
      ]
     },
     "metadata": {},
     "execution_count": 186
    }
   ],
   "source": [
    "df_coffee_without_duplicates['process'] = df_coffee_without_duplicates['process'].replace(r'^\\s*$', np.nan, regex=True)\n",
    "process = set(df_coffee_without_duplicates['process'])\n",
    "process"
   ]
  },
  {
   "cell_type": "code",
   "execution_count": 197,
   "metadata": {},
   "outputs": [
    {
     "output_type": "execute_result",
     "data": {
      "text/plain": [
       "                                           unique_id  price weight  process  \\\n",
       "0  https://www.coffeedesk.pl/product/17602/Espres...  139.0   1 kg  Natural   \n",
       "1  https://www.coffeedesk.pl/product/17601/Espres...   43.0  250 g  Natural   \n",
       "2  https://www.coffeedesk.pl/product/115/Johan-An...   79.0  500 g      NaN   \n",
       "3  https://www.coffeedesk.pl/product/753/Arcaffe-...   99.0   1 kg      NaN   \n",
       "4  https://www.coffeedesk.pl/product/754/Arcaffe-...   32.0  250 g      NaN   \n",
       "\n",
       "  grind_types   roast      blend  \\\n",
       "0    Espresso  medium  Ziarnista   \n",
       "1    Espresso  medium  Ziarnista   \n",
       "2    Espresso  medium  Ziarnista   \n",
       "3    Espresso  medium  Ziarnista   \n",
       "4    Espresso  medium  Ziarnista   \n",
       "\n",
       "                                         description  weight(g)  price_per_kg  \n",
       "0  Maj rozpoczynamy z nowym espresso miesiąca! Ty...     1000.0         139.0  \n",
       "1  Maj rozpoczynamy z nowym espresso miesiąca! Ty...      250.0         172.0  \n",
       "2  Flagowa mieszanka ziaren jakości speciality ze...      500.0         158.0  \n",
       "3  Gorgona to nazwa jednej z wysp archipelagu Tus...     1000.0          99.0  \n",
       "4  Gorgona to nazwa jednej z wysp archipelagu Tus...      250.0         128.0  "
      ],
      "text/html": "<div>\n<style scoped>\n    .dataframe tbody tr th:only-of-type {\n        vertical-align: middle;\n    }\n\n    .dataframe tbody tr th {\n        vertical-align: top;\n    }\n\n    .dataframe thead th {\n        text-align: right;\n    }\n</style>\n<table border=\"1\" class=\"dataframe\">\n  <thead>\n    <tr style=\"text-align: right;\">\n      <th></th>\n      <th>unique_id</th>\n      <th>price</th>\n      <th>weight</th>\n      <th>process</th>\n      <th>grind_types</th>\n      <th>roast</th>\n      <th>blend</th>\n      <th>description</th>\n      <th>weight(g)</th>\n      <th>price_per_kg</th>\n    </tr>\n  </thead>\n  <tbody>\n    <tr>\n      <th>0</th>\n      <td>https://www.coffeedesk.pl/product/17602/Espres...</td>\n      <td>139.0</td>\n      <td>1 kg</td>\n      <td>Natural</td>\n      <td>Espresso</td>\n      <td>medium</td>\n      <td>Ziarnista</td>\n      <td>Maj rozpoczynamy z nowym espresso miesiąca! Ty...</td>\n      <td>1000.0</td>\n      <td>139.0</td>\n    </tr>\n    <tr>\n      <th>1</th>\n      <td>https://www.coffeedesk.pl/product/17601/Espres...</td>\n      <td>43.0</td>\n      <td>250 g</td>\n      <td>Natural</td>\n      <td>Espresso</td>\n      <td>medium</td>\n      <td>Ziarnista</td>\n      <td>Maj rozpoczynamy z nowym espresso miesiąca! Ty...</td>\n      <td>250.0</td>\n      <td>172.0</td>\n    </tr>\n    <tr>\n      <th>2</th>\n      <td>https://www.coffeedesk.pl/product/115/Johan-An...</td>\n      <td>79.0</td>\n      <td>500 g</td>\n      <td>NaN</td>\n      <td>Espresso</td>\n      <td>medium</td>\n      <td>Ziarnista</td>\n      <td>Flagowa mieszanka ziaren jakości speciality ze...</td>\n      <td>500.0</td>\n      <td>158.0</td>\n    </tr>\n    <tr>\n      <th>3</th>\n      <td>https://www.coffeedesk.pl/product/753/Arcaffe-...</td>\n      <td>99.0</td>\n      <td>1 kg</td>\n      <td>NaN</td>\n      <td>Espresso</td>\n      <td>medium</td>\n      <td>Ziarnista</td>\n      <td>Gorgona to nazwa jednej z wysp archipelagu Tus...</td>\n      <td>1000.0</td>\n      <td>99.0</td>\n    </tr>\n    <tr>\n      <th>4</th>\n      <td>https://www.coffeedesk.pl/product/754/Arcaffe-...</td>\n      <td>32.0</td>\n      <td>250 g</td>\n      <td>NaN</td>\n      <td>Espresso</td>\n      <td>medium</td>\n      <td>Ziarnista</td>\n      <td>Gorgona to nazwa jednej z wysp archipelagu Tus...</td>\n      <td>250.0</td>\n      <td>128.0</td>\n    </tr>\n  </tbody>\n</table>\n</div>"
     },
     "metadata": {},
     "execution_count": 197
    }
   ],
   "source": [
    "df_coffee_without_duplicates.head()"
   ]
  },
  {
   "cell_type": "code",
   "execution_count": 198,
   "metadata": {},
   "outputs": [
    {
     "output_type": "execute_result",
     "data": {
      "text/plain": [
       "beans       773\n",
       "ground       82\n",
       "capsules      1\n",
       "Name: blend, dtype: int64"
      ]
     },
     "metadata": {},
     "execution_count": 198
    }
   ],
   "source": [
    "df_coffee_without_duplicates['blend'] = df_coffee_without_duplicates['blend'].str.replace(\"Mielona\", \"ground\")\n",
    "df_coffee_without_duplicates['blend'] = df_coffee_without_duplicates['blend'].str.replace(\"W kapsułkach\", \"capsules\")\n",
    "df_coffee_without_duplicates['blend'] = df_coffee_without_duplicates['blend'].str.replace(\"Ziarnista\", \"beans\")\n",
    "df_coffee_without_duplicates['blend'].value_counts()"
   ]
  },
  {
   "cell_type": "code",
   "execution_count": 199,
   "metadata": {},
   "outputs": [
    {
     "output_type": "execute_result",
     "data": {
      "text/plain": [
       "espresso                      401\n",
       "Drip (Metody alternatywne)    382\n",
       "drip, espresso                 72\n",
       "Name: grind_types, dtype: int64"
      ]
     },
     "metadata": {},
     "execution_count": 199
    }
   ],
   "source": [
    "df_coffee_without_duplicates['grind_types'] = df_coffee_without_duplicates['grind_types'].str.replace(\"Drip (Metody alternatywne)\", \"drip\")\n",
    "df_coffee_without_duplicates['grind_types'] = df_coffee_without_duplicates['grind_types'].str.replace(\"Drip i espresso\", \"drip, espresso\")\n",
    "df_coffee_without_duplicates['grind_types'] = df_coffee_without_duplicates['grind_types'].str.replace(\"Espresso\", \"espresso\")\n",
    "df_coffee_without_duplicates['grind_types'].value_counts()"
   ]
  }
 ]
}