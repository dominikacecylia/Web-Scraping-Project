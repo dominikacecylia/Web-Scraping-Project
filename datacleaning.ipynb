{
 "metadata": {
  "language_info": {
   "codemirror_mode": {
    "name": "ipython",
    "version": 3
   },
   "file_extension": ".py",
   "mimetype": "text/x-python",
   "name": "python",
   "nbconvert_exporter": "python",
   "pygments_lexer": "ipython3",
   "version": "3.7.4"
  },
  "orig_nbformat": 2,
  "kernelspec": {
   "name": "python374jvsc74a57bd0c93df55f5f202384f3bb5a80607004194cd8c49f314b34663a631fdaa9229f8e",
   "display_name": "Python 3.7.4 64-bit ('base': conda)"
  }
 },
 "nbformat": 4,
 "nbformat_minor": 2,
 "cells": [
  {
   "cell_type": "code",
   "execution_count": 1,
   "metadata": {},
   "outputs": [],
   "source": [
    "import json\n",
    "import pandas as pd"
   ]
  },
  {
   "cell_type": "code",
   "execution_count": null,
   "metadata": {},
   "outputs": [],
   "source": [
    "with open('data/data_pl_coffee_all.json', 'r', encoding='utf-8') as json_file:\n",
    "    data = json_file.read().replace('\\n', '')\n",
    "    data = data.replace('[', '')\n",
    "    data = data.replace(']', '')\n",
    "    data = data.replace('},', '}')\n",
    "\n",
    "    list_of_strings = data.split(\"{\")\n",
    "    list_of_strings = list_of_strings[1:] \n",
    "\n",
    "    list_of_corrected_strings = []\n",
    "    for dict in list_of_strings:\n",
    "        list_of_corrected_strings.append('{' + dict)\n",
    "\n",
    "    list_of_dictionaries = []\n",
    "    for string in list_of_corrected_strings:\n",
    "        dict = json.loads(string)\n",
    "        unique_id = dict['unique_id']\n",
    "        try:\n",
    "            price = dict['price']\n",
    "        except:\n",
    "            price = 0\n",
    "        try:\n",
    "            weight = dict['Opakowanie:']\n",
    "        except:\n",
    "            weight = \"\"\n",
    "        try:\n",
    "            process = dict['Obróbka:']\n",
    "        except:\n",
    "            process = \"\"\n",
    "        try:\n",
    "            grind_types = dict['Przeznaczenie:']\n",
    "        except:\n",
    "            grind_types = ''\n",
    "        try:\n",
    "            roast = dict['Stopień palenia ziaren:']\n",
    "        except:\n",
    "            roast = ''\n",
    "        try:\n",
    "            blend = dict['Rodzaj kawy:']\n",
    "        except:\n",
    "            blend = ''\n",
    "        try:\n",
    "            description = dict['description']\n",
    "        except:\n",
    "            description = \"\"\n",
    "\n",
    "        coffee_dictionary = {\n",
    "            \"unique_id\" : unique_id,\n",
    "            \"price\" : price,\n",
    "            \"weight\" : weight,\n",
    "            \"process\" : process,\n",
    "            \"grind_types\" : grind_types,\n",
    "            \"roast\" : roast,\n",
    "            \"blend\" : blend,\n",
    "            \"description\" : description\n",
    "        }\n",
    "        list_of_dictionaries.append(coffee_dictionary)"
   ]
  },
  {
   "cell_type": "code",
   "execution_count": null,
   "metadata": {},
   "outputs": [],
   "source": [
    "# dictionary_test = list_of_dictionaries[0].keys()\n",
    "df_coffee = pd.DataFrame(columns=['unique_id', 'price', 'weight', 'process', 'grind_types', 'roast', 'blend', 'description'])"
   ]
  },
  {
   "cell_type": "code",
   "execution_count": null,
   "metadata": {},
   "outputs": [],
   "source": [
    "for idx, dict in enumerate(list_of_dictionaries): #merging dictionaries into df\r\n",
    "        df = pd.DataFrame(dict, index=[idx])\r\n",
    "        df_coffee = df_coffee.append(df)"
   ]
  },
  {
   "cell_type": "code",
   "execution_count": null,
   "metadata": {},
   "outputs": [],
   "source": [
    "df_coffee_without_duplicates = df_coffee.drop_duplicates(keep=\"first\", inplace=False) # removing duplicates\n",
    "df_coffee_without_duplicates.head(10)"
   ]
  },
  {
   "cell_type": "code",
   "execution_count": null,
   "metadata": {},
   "outputs": [],
   "source": [
    "df_coffee_without_duplicates.dtypes"
   ]
  }
 ]
}